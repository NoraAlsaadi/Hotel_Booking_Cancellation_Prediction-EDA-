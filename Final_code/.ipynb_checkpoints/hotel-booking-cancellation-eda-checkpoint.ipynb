{
 "cells": [
  {
   "cell_type": "markdown",
   "id": "219ec24c",
   "metadata": {
    "_cell_guid": "b1076dfc-b9ad-4769-8c92-a6c4dae69d19",
    "_uuid": "8f2839f25d086af736a60e9eeb907d3b93b6e0e5",
    "execution": {
     "iopub.execute_input": "2021-11-20T09:40:43.770933Z",
     "iopub.status.busy": "2021-11-20T09:40:43.770529Z",
     "iopub.status.idle": "2021-11-20T09:40:43.775303Z",
     "shell.execute_reply": "2021-11-20T09:40:43.774465Z",
     "shell.execute_reply.started": "2021-11-20T09:40:43.770904Z"
    },
    "papermill": {
     "duration": 0.05479,
     "end_time": "2021-11-20T19:13:41.911912",
     "exception": false,
     "start_time": "2021-11-20T19:13:41.857122",
     "status": "completed"
    },
    "tags": []
   },
   "source": [
    "#### The purpose of this analysis cancellations in hotels, whether resorts or city hotels,to help devise new methods to reduce the consequent losses.\n",
    "#### the results allow hotel managers to improve cancellation policies, define better overbooking tactics\n",
    " "
   ]
  },
  {
   "cell_type": "markdown",
   "id": "b47c3639",
   "metadata": {
    "papermill": {
     "duration": 0.047034,
     "end_time": "2021-11-20T19:13:42.006159",
     "exception": false,
     "start_time": "2021-11-20T19:13:41.959125",
     "status": "completed"
    },
    "tags": []
   },
   "source": [
    "#### Content\n",
    "\n",
    "Data Exploration\n",
    "\n",
    "Data Pre-Processing\n",
    "\n",
    "Data Visualization"
   ]
  },
  {
   "cell_type": "markdown",
   "id": "573f1f6d",
   "metadata": {
    "papermill": {
     "duration": 0.048336,
     "end_time": "2021-11-20T19:13:42.102896",
     "exception": false,
     "start_time": "2021-11-20T19:13:42.054560",
     "status": "completed"
    },
    "tags": []
   },
   "source": [
    "### Data Exploration"
   ]
  },
  {
   "cell_type": "markdown",
   "id": "de635086",
   "metadata": {
    "papermill": {
     "duration": 0.046264,
     "end_time": "2021-11-20T19:13:42.195818",
     "exception": false,
     "start_time": "2021-11-20T19:13:42.149554",
     "status": "completed"
    },
    "tags": []
   },
   "source": [
    "#### Lets import the necessary libs and load the dataet."
   ]
  },
  {
   "cell_type": "code",
   "execution_count": 1,
   "id": "de49095f",
   "metadata": {
    "execution": {
     "iopub.execute_input": "2021-11-20T19:13:42.300562Z",
     "iopub.status.busy": "2021-11-20T19:13:42.299515Z",
     "iopub.status.idle": "2021-11-20T19:13:43.246655Z",
     "shell.execute_reply": "2021-11-20T19:13:43.245806Z",
     "shell.execute_reply.started": "2021-11-20T18:48:51.501799Z"
    },
    "papermill": {
     "duration": 1.004602,
     "end_time": "2021-11-20T19:13:43.246822",
     "exception": false,
     "start_time": "2021-11-20T19:13:42.242220",
     "status": "completed"
    },
    "tags": []
   },
   "outputs": [],
   "source": [
    "import pandas as pd\n",
    "import numpy as np\n",
    "import seaborn as sns\n",
    "import matplotlib.pyplot as plt\n",
    "%matplotlib inline"
   ]
  },
  {
   "cell_type": "code",
   "execution_count": 2,
   "id": "506370c1",
   "metadata": {
    "execution": {
     "iopub.execute_input": "2021-11-20T19:13:43.404276Z",
     "iopub.status.busy": "2021-11-20T19:13:43.403651Z",
     "iopub.status.idle": "2021-11-20T19:13:43.972245Z",
     "shell.execute_reply": "2021-11-20T19:13:43.971678Z",
     "shell.execute_reply.started": "2021-11-20T17:19:02.828964Z"
    },
    "papermill": {
     "duration": 0.67893,
     "end_time": "2021-11-20T19:13:43.972417",
     "exception": false,
     "start_time": "2021-11-20T19:13:43.293487",
     "status": "completed"
    },
    "tags": []
   },
   "outputs": [],
   "source": [
    "# Read the csv file\n",
    "hotel_booking_data =pd.read_csv('../DataSet/hotel_bookings.csv')"
   ]
  },
  {
   "cell_type": "code",
   "execution_count": 3,
   "id": "e785cf1a",
   "metadata": {
    "execution": {
     "iopub.execute_input": "2021-11-20T19:13:44.071721Z",
     "iopub.status.busy": "2021-11-20T19:13:44.070999Z",
     "iopub.status.idle": "2021-11-20T19:13:44.075422Z",
     "shell.execute_reply": "2021-11-20T19:13:44.074809Z",
     "shell.execute_reply.started": "2021-11-20T17:19:06.373108Z"
    },
    "papermill": {
     "duration": 0.057214,
     "end_time": "2021-11-20T19:13:44.075567",
     "exception": false,
     "start_time": "2021-11-20T19:13:44.018353",
     "status": "completed"
    },
    "tags": []
   },
   "outputs": [
    {
     "data": {
      "text/plain": [
       "(119390, 32)"
      ]
     },
     "execution_count": 3,
     "metadata": {},
     "output_type": "execute_result"
    }
   ],
   "source": [
    "hotel_booking_data.shape"
   ]
  },
  {
   "cell_type": "code",
   "execution_count": 4,
   "id": "de128683",
   "metadata": {
    "execution": {
     "iopub.execute_input": "2021-11-20T19:13:44.183347Z",
     "iopub.status.busy": "2021-11-20T19:13:44.182638Z",
     "iopub.status.idle": "2021-11-20T19:13:44.205070Z",
     "shell.execute_reply": "2021-11-20T19:13:44.205665Z",
     "shell.execute_reply.started": "2021-11-20T17:19:10.937070Z"
    },
    "papermill": {
     "duration": 0.083444,
     "end_time": "2021-11-20T19:13:44.205836",
     "exception": false,
     "start_time": "2021-11-20T19:13:44.122392",
     "status": "completed"
    },
    "tags": []
   },
   "outputs": [
    {
     "data": {
      "text/html": [
       "<div>\n",
       "<style scoped>\n",
       "    .dataframe tbody tr th:only-of-type {\n",
       "        vertical-align: middle;\n",
       "    }\n",
       "\n",
       "    .dataframe tbody tr th {\n",
       "        vertical-align: top;\n",
       "    }\n",
       "\n",
       "    .dataframe thead th {\n",
       "        text-align: right;\n",
       "    }\n",
       "</style>\n",
       "<table border=\"1\" class=\"dataframe\">\n",
       "  <thead>\n",
       "    <tr style=\"text-align: right;\">\n",
       "      <th></th>\n",
       "      <th>hotel</th>\n",
       "      <th>is_canceled</th>\n",
       "      <th>lead_time</th>\n",
       "      <th>arrival_date_year</th>\n",
       "      <th>arrival_date_month</th>\n",
       "      <th>arrival_date_week_number</th>\n",
       "      <th>arrival_date_day_of_month</th>\n",
       "      <th>stays_in_weekend_nights</th>\n",
       "      <th>stays_in_week_nights</th>\n",
       "      <th>adults</th>\n",
       "      <th>...</th>\n",
       "      <th>deposit_type</th>\n",
       "      <th>agent</th>\n",
       "      <th>company</th>\n",
       "      <th>days_in_waiting_list</th>\n",
       "      <th>customer_type</th>\n",
       "      <th>adr</th>\n",
       "      <th>required_car_parking_spaces</th>\n",
       "      <th>total_of_special_requests</th>\n",
       "      <th>reservation_status</th>\n",
       "      <th>reservation_status_date</th>\n",
       "    </tr>\n",
       "  </thead>\n",
       "  <tbody>\n",
       "    <tr>\n",
       "      <th>0</th>\n",
       "      <td>Resort Hotel</td>\n",
       "      <td>0</td>\n",
       "      <td>342</td>\n",
       "      <td>2015</td>\n",
       "      <td>July</td>\n",
       "      <td>27</td>\n",
       "      <td>1</td>\n",
       "      <td>0</td>\n",
       "      <td>0</td>\n",
       "      <td>2</td>\n",
       "      <td>...</td>\n",
       "      <td>No Deposit</td>\n",
       "      <td>NaN</td>\n",
       "      <td>NaN</td>\n",
       "      <td>0</td>\n",
       "      <td>Transient</td>\n",
       "      <td>0.0</td>\n",
       "      <td>0</td>\n",
       "      <td>0</td>\n",
       "      <td>Check-Out</td>\n",
       "      <td>2015-07-01</td>\n",
       "    </tr>\n",
       "    <tr>\n",
       "      <th>1</th>\n",
       "      <td>Resort Hotel</td>\n",
       "      <td>0</td>\n",
       "      <td>737</td>\n",
       "      <td>2015</td>\n",
       "      <td>July</td>\n",
       "      <td>27</td>\n",
       "      <td>1</td>\n",
       "      <td>0</td>\n",
       "      <td>0</td>\n",
       "      <td>2</td>\n",
       "      <td>...</td>\n",
       "      <td>No Deposit</td>\n",
       "      <td>NaN</td>\n",
       "      <td>NaN</td>\n",
       "      <td>0</td>\n",
       "      <td>Transient</td>\n",
       "      <td>0.0</td>\n",
       "      <td>0</td>\n",
       "      <td>0</td>\n",
       "      <td>Check-Out</td>\n",
       "      <td>2015-07-01</td>\n",
       "    </tr>\n",
       "    <tr>\n",
       "      <th>2</th>\n",
       "      <td>Resort Hotel</td>\n",
       "      <td>0</td>\n",
       "      <td>7</td>\n",
       "      <td>2015</td>\n",
       "      <td>July</td>\n",
       "      <td>27</td>\n",
       "      <td>1</td>\n",
       "      <td>0</td>\n",
       "      <td>1</td>\n",
       "      <td>1</td>\n",
       "      <td>...</td>\n",
       "      <td>No Deposit</td>\n",
       "      <td>NaN</td>\n",
       "      <td>NaN</td>\n",
       "      <td>0</td>\n",
       "      <td>Transient</td>\n",
       "      <td>75.0</td>\n",
       "      <td>0</td>\n",
       "      <td>0</td>\n",
       "      <td>Check-Out</td>\n",
       "      <td>2015-07-02</td>\n",
       "    </tr>\n",
       "    <tr>\n",
       "      <th>3</th>\n",
       "      <td>Resort Hotel</td>\n",
       "      <td>0</td>\n",
       "      <td>13</td>\n",
       "      <td>2015</td>\n",
       "      <td>July</td>\n",
       "      <td>27</td>\n",
       "      <td>1</td>\n",
       "      <td>0</td>\n",
       "      <td>1</td>\n",
       "      <td>1</td>\n",
       "      <td>...</td>\n",
       "      <td>No Deposit</td>\n",
       "      <td>304.0</td>\n",
       "      <td>NaN</td>\n",
       "      <td>0</td>\n",
       "      <td>Transient</td>\n",
       "      <td>75.0</td>\n",
       "      <td>0</td>\n",
       "      <td>0</td>\n",
       "      <td>Check-Out</td>\n",
       "      <td>2015-07-02</td>\n",
       "    </tr>\n",
       "    <tr>\n",
       "      <th>4</th>\n",
       "      <td>Resort Hotel</td>\n",
       "      <td>0</td>\n",
       "      <td>14</td>\n",
       "      <td>2015</td>\n",
       "      <td>July</td>\n",
       "      <td>27</td>\n",
       "      <td>1</td>\n",
       "      <td>0</td>\n",
       "      <td>2</td>\n",
       "      <td>2</td>\n",
       "      <td>...</td>\n",
       "      <td>No Deposit</td>\n",
       "      <td>240.0</td>\n",
       "      <td>NaN</td>\n",
       "      <td>0</td>\n",
       "      <td>Transient</td>\n",
       "      <td>98.0</td>\n",
       "      <td>0</td>\n",
       "      <td>1</td>\n",
       "      <td>Check-Out</td>\n",
       "      <td>2015-07-03</td>\n",
       "    </tr>\n",
       "  </tbody>\n",
       "</table>\n",
       "<p>5 rows × 32 columns</p>\n",
       "</div>"
      ],
      "text/plain": [
       "          hotel  is_canceled  lead_time  arrival_date_year arrival_date_month  \\\n",
       "0  Resort Hotel            0        342               2015               July   \n",
       "1  Resort Hotel            0        737               2015               July   \n",
       "2  Resort Hotel            0          7               2015               July   \n",
       "3  Resort Hotel            0         13               2015               July   \n",
       "4  Resort Hotel            0         14               2015               July   \n",
       "\n",
       "   arrival_date_week_number  arrival_date_day_of_month  \\\n",
       "0                        27                          1   \n",
       "1                        27                          1   \n",
       "2                        27                          1   \n",
       "3                        27                          1   \n",
       "4                        27                          1   \n",
       "\n",
       "   stays_in_weekend_nights  stays_in_week_nights  adults  ...  deposit_type  \\\n",
       "0                        0                     0       2  ...    No Deposit   \n",
       "1                        0                     0       2  ...    No Deposit   \n",
       "2                        0                     1       1  ...    No Deposit   \n",
       "3                        0                     1       1  ...    No Deposit   \n",
       "4                        0                     2       2  ...    No Deposit   \n",
       "\n",
       "   agent company days_in_waiting_list customer_type   adr  \\\n",
       "0    NaN     NaN                    0     Transient   0.0   \n",
       "1    NaN     NaN                    0     Transient   0.0   \n",
       "2    NaN     NaN                    0     Transient  75.0   \n",
       "3  304.0     NaN                    0     Transient  75.0   \n",
       "4  240.0     NaN                    0     Transient  98.0   \n",
       "\n",
       "   required_car_parking_spaces  total_of_special_requests  reservation_status  \\\n",
       "0                            0                          0           Check-Out   \n",
       "1                            0                          0           Check-Out   \n",
       "2                            0                          0           Check-Out   \n",
       "3                            0                          0           Check-Out   \n",
       "4                            0                          1           Check-Out   \n",
       "\n",
       "  reservation_status_date  \n",
       "0              2015-07-01  \n",
       "1              2015-07-01  \n",
       "2              2015-07-02  \n",
       "3              2015-07-02  \n",
       "4              2015-07-03  \n",
       "\n",
       "[5 rows x 32 columns]"
      ]
     },
     "execution_count": 4,
     "metadata": {},
     "output_type": "execute_result"
    }
   ],
   "source": [
    "hotel_booking_data.head()"
   ]
  },
  {
   "cell_type": "code",
   "execution_count": 5,
   "id": "dab6f9c8",
   "metadata": {
    "execution": {
     "iopub.execute_input": "2021-11-20T19:13:44.324491Z",
     "iopub.status.busy": "2021-11-20T19:13:44.323772Z",
     "iopub.status.idle": "2021-11-20T19:13:44.327124Z",
     "shell.execute_reply": "2021-11-20T19:13:44.327620Z",
     "shell.execute_reply.started": "2021-11-20T17:19:16.106858Z"
    },
    "papermill": {
     "duration": 0.075026,
     "end_time": "2021-11-20T19:13:44.327797",
     "exception": false,
     "start_time": "2021-11-20T19:13:44.252771",
     "status": "completed"
    },
    "tags": []
   },
   "outputs": [
    {
     "data": {
      "text/html": [
       "<div>\n",
       "<style scoped>\n",
       "    .dataframe tbody tr th:only-of-type {\n",
       "        vertical-align: middle;\n",
       "    }\n",
       "\n",
       "    .dataframe tbody tr th {\n",
       "        vertical-align: top;\n",
       "    }\n",
       "\n",
       "    .dataframe thead th {\n",
       "        text-align: right;\n",
       "    }\n",
       "</style>\n",
       "<table border=\"1\" class=\"dataframe\">\n",
       "  <thead>\n",
       "    <tr style=\"text-align: right;\">\n",
       "      <th></th>\n",
       "      <th>hotel</th>\n",
       "      <th>is_canceled</th>\n",
       "      <th>lead_time</th>\n",
       "      <th>arrival_date_year</th>\n",
       "      <th>arrival_date_month</th>\n",
       "      <th>arrival_date_week_number</th>\n",
       "      <th>arrival_date_day_of_month</th>\n",
       "      <th>stays_in_weekend_nights</th>\n",
       "      <th>stays_in_week_nights</th>\n",
       "      <th>adults</th>\n",
       "      <th>...</th>\n",
       "      <th>deposit_type</th>\n",
       "      <th>agent</th>\n",
       "      <th>company</th>\n",
       "      <th>days_in_waiting_list</th>\n",
       "      <th>customer_type</th>\n",
       "      <th>adr</th>\n",
       "      <th>required_car_parking_spaces</th>\n",
       "      <th>total_of_special_requests</th>\n",
       "      <th>reservation_status</th>\n",
       "      <th>reservation_status_date</th>\n",
       "    </tr>\n",
       "  </thead>\n",
       "  <tbody>\n",
       "    <tr>\n",
       "      <th>119385</th>\n",
       "      <td>City Hotel</td>\n",
       "      <td>0</td>\n",
       "      <td>23</td>\n",
       "      <td>2017</td>\n",
       "      <td>August</td>\n",
       "      <td>35</td>\n",
       "      <td>30</td>\n",
       "      <td>2</td>\n",
       "      <td>5</td>\n",
       "      <td>2</td>\n",
       "      <td>...</td>\n",
       "      <td>No Deposit</td>\n",
       "      <td>394.0</td>\n",
       "      <td>NaN</td>\n",
       "      <td>0</td>\n",
       "      <td>Transient</td>\n",
       "      <td>96.14</td>\n",
       "      <td>0</td>\n",
       "      <td>0</td>\n",
       "      <td>Check-Out</td>\n",
       "      <td>2017-09-06</td>\n",
       "    </tr>\n",
       "    <tr>\n",
       "      <th>119386</th>\n",
       "      <td>City Hotel</td>\n",
       "      <td>0</td>\n",
       "      <td>102</td>\n",
       "      <td>2017</td>\n",
       "      <td>August</td>\n",
       "      <td>35</td>\n",
       "      <td>31</td>\n",
       "      <td>2</td>\n",
       "      <td>5</td>\n",
       "      <td>3</td>\n",
       "      <td>...</td>\n",
       "      <td>No Deposit</td>\n",
       "      <td>9.0</td>\n",
       "      <td>NaN</td>\n",
       "      <td>0</td>\n",
       "      <td>Transient</td>\n",
       "      <td>225.43</td>\n",
       "      <td>0</td>\n",
       "      <td>2</td>\n",
       "      <td>Check-Out</td>\n",
       "      <td>2017-09-07</td>\n",
       "    </tr>\n",
       "    <tr>\n",
       "      <th>119387</th>\n",
       "      <td>City Hotel</td>\n",
       "      <td>0</td>\n",
       "      <td>34</td>\n",
       "      <td>2017</td>\n",
       "      <td>August</td>\n",
       "      <td>35</td>\n",
       "      <td>31</td>\n",
       "      <td>2</td>\n",
       "      <td>5</td>\n",
       "      <td>2</td>\n",
       "      <td>...</td>\n",
       "      <td>No Deposit</td>\n",
       "      <td>9.0</td>\n",
       "      <td>NaN</td>\n",
       "      <td>0</td>\n",
       "      <td>Transient</td>\n",
       "      <td>157.71</td>\n",
       "      <td>0</td>\n",
       "      <td>4</td>\n",
       "      <td>Check-Out</td>\n",
       "      <td>2017-09-07</td>\n",
       "    </tr>\n",
       "    <tr>\n",
       "      <th>119388</th>\n",
       "      <td>City Hotel</td>\n",
       "      <td>0</td>\n",
       "      <td>109</td>\n",
       "      <td>2017</td>\n",
       "      <td>August</td>\n",
       "      <td>35</td>\n",
       "      <td>31</td>\n",
       "      <td>2</td>\n",
       "      <td>5</td>\n",
       "      <td>2</td>\n",
       "      <td>...</td>\n",
       "      <td>No Deposit</td>\n",
       "      <td>89.0</td>\n",
       "      <td>NaN</td>\n",
       "      <td>0</td>\n",
       "      <td>Transient</td>\n",
       "      <td>104.40</td>\n",
       "      <td>0</td>\n",
       "      <td>0</td>\n",
       "      <td>Check-Out</td>\n",
       "      <td>2017-09-07</td>\n",
       "    </tr>\n",
       "    <tr>\n",
       "      <th>119389</th>\n",
       "      <td>City Hotel</td>\n",
       "      <td>0</td>\n",
       "      <td>205</td>\n",
       "      <td>2017</td>\n",
       "      <td>August</td>\n",
       "      <td>35</td>\n",
       "      <td>29</td>\n",
       "      <td>2</td>\n",
       "      <td>7</td>\n",
       "      <td>2</td>\n",
       "      <td>...</td>\n",
       "      <td>No Deposit</td>\n",
       "      <td>9.0</td>\n",
       "      <td>NaN</td>\n",
       "      <td>0</td>\n",
       "      <td>Transient</td>\n",
       "      <td>151.20</td>\n",
       "      <td>0</td>\n",
       "      <td>2</td>\n",
       "      <td>Check-Out</td>\n",
       "      <td>2017-09-07</td>\n",
       "    </tr>\n",
       "  </tbody>\n",
       "</table>\n",
       "<p>5 rows × 32 columns</p>\n",
       "</div>"
      ],
      "text/plain": [
       "             hotel  is_canceled  lead_time  arrival_date_year  \\\n",
       "119385  City Hotel            0         23               2017   \n",
       "119386  City Hotel            0        102               2017   \n",
       "119387  City Hotel            0         34               2017   \n",
       "119388  City Hotel            0        109               2017   \n",
       "119389  City Hotel            0        205               2017   \n",
       "\n",
       "       arrival_date_month  arrival_date_week_number  \\\n",
       "119385             August                        35   \n",
       "119386             August                        35   \n",
       "119387             August                        35   \n",
       "119388             August                        35   \n",
       "119389             August                        35   \n",
       "\n",
       "        arrival_date_day_of_month  stays_in_weekend_nights  \\\n",
       "119385                         30                        2   \n",
       "119386                         31                        2   \n",
       "119387                         31                        2   \n",
       "119388                         31                        2   \n",
       "119389                         29                        2   \n",
       "\n",
       "        stays_in_week_nights  adults  ...  deposit_type  agent company  \\\n",
       "119385                     5       2  ...    No Deposit  394.0     NaN   \n",
       "119386                     5       3  ...    No Deposit    9.0     NaN   \n",
       "119387                     5       2  ...    No Deposit    9.0     NaN   \n",
       "119388                     5       2  ...    No Deposit   89.0     NaN   \n",
       "119389                     7       2  ...    No Deposit    9.0     NaN   \n",
       "\n",
       "       days_in_waiting_list customer_type     adr  \\\n",
       "119385                    0     Transient   96.14   \n",
       "119386                    0     Transient  225.43   \n",
       "119387                    0     Transient  157.71   \n",
       "119388                    0     Transient  104.40   \n",
       "119389                    0     Transient  151.20   \n",
       "\n",
       "        required_car_parking_spaces  total_of_special_requests  \\\n",
       "119385                            0                          0   \n",
       "119386                            0                          2   \n",
       "119387                            0                          4   \n",
       "119388                            0                          0   \n",
       "119389                            0                          2   \n",
       "\n",
       "        reservation_status reservation_status_date  \n",
       "119385           Check-Out              2017-09-06  \n",
       "119386           Check-Out              2017-09-07  \n",
       "119387           Check-Out              2017-09-07  \n",
       "119388           Check-Out              2017-09-07  \n",
       "119389           Check-Out              2017-09-07  \n",
       "\n",
       "[5 rows x 32 columns]"
      ]
     },
     "execution_count": 5,
     "metadata": {},
     "output_type": "execute_result"
    }
   ],
   "source": [
    "hotel_booking_data.tail()"
   ]
  },
  {
   "cell_type": "code",
   "execution_count": 6,
   "id": "5f1ef5b1",
   "metadata": {
    "execution": {
     "iopub.execute_input": "2021-11-20T19:13:44.429995Z",
     "iopub.status.busy": "2021-11-20T19:13:44.429278Z",
     "iopub.status.idle": "2021-11-20T19:13:44.459347Z",
     "shell.execute_reply": "2021-11-20T19:13:44.458723Z",
     "shell.execute_reply.started": "2021-11-20T17:19:21.702088Z"
    },
    "papermill": {
     "duration": 0.083195,
     "end_time": "2021-11-20T19:13:44.459491",
     "exception": false,
     "start_time": "2021-11-20T19:13:44.376296",
     "status": "completed"
    },
    "tags": []
   },
   "outputs": [
    {
     "data": {
      "text/html": [
       "<div>\n",
       "<style scoped>\n",
       "    .dataframe tbody tr th:only-of-type {\n",
       "        vertical-align: middle;\n",
       "    }\n",
       "\n",
       "    .dataframe tbody tr th {\n",
       "        vertical-align: top;\n",
       "    }\n",
       "\n",
       "    .dataframe thead th {\n",
       "        text-align: right;\n",
       "    }\n",
       "</style>\n",
       "<table border=\"1\" class=\"dataframe\">\n",
       "  <thead>\n",
       "    <tr style=\"text-align: right;\">\n",
       "      <th></th>\n",
       "      <th>hotel</th>\n",
       "      <th>is_canceled</th>\n",
       "      <th>lead_time</th>\n",
       "      <th>arrival_date_year</th>\n",
       "      <th>arrival_date_month</th>\n",
       "      <th>arrival_date_week_number</th>\n",
       "      <th>arrival_date_day_of_month</th>\n",
       "      <th>stays_in_weekend_nights</th>\n",
       "      <th>stays_in_week_nights</th>\n",
       "      <th>adults</th>\n",
       "      <th>...</th>\n",
       "      <th>deposit_type</th>\n",
       "      <th>agent</th>\n",
       "      <th>company</th>\n",
       "      <th>days_in_waiting_list</th>\n",
       "      <th>customer_type</th>\n",
       "      <th>adr</th>\n",
       "      <th>required_car_parking_spaces</th>\n",
       "      <th>total_of_special_requests</th>\n",
       "      <th>reservation_status</th>\n",
       "      <th>reservation_status_date</th>\n",
       "    </tr>\n",
       "  </thead>\n",
       "  <tbody>\n",
       "    <tr>\n",
       "      <th>108610</th>\n",
       "      <td>City Hotel</td>\n",
       "      <td>0</td>\n",
       "      <td>73</td>\n",
       "      <td>2017</td>\n",
       "      <td>March</td>\n",
       "      <td>13</td>\n",
       "      <td>27</td>\n",
       "      <td>1</td>\n",
       "      <td>2</td>\n",
       "      <td>2</td>\n",
       "      <td>...</td>\n",
       "      <td>No Deposit</td>\n",
       "      <td>7.0</td>\n",
       "      <td>NaN</td>\n",
       "      <td>0</td>\n",
       "      <td>Transient</td>\n",
       "      <td>83.16</td>\n",
       "      <td>0</td>\n",
       "      <td>1</td>\n",
       "      <td>Check-Out</td>\n",
       "      <td>2017-03-30</td>\n",
       "    </tr>\n",
       "    <tr>\n",
       "      <th>3200</th>\n",
       "      <td>Resort Hotel</td>\n",
       "      <td>0</td>\n",
       "      <td>78</td>\n",
       "      <td>2015</td>\n",
       "      <td>November</td>\n",
       "      <td>47</td>\n",
       "      <td>21</td>\n",
       "      <td>0</td>\n",
       "      <td>1</td>\n",
       "      <td>2</td>\n",
       "      <td>...</td>\n",
       "      <td>No Deposit</td>\n",
       "      <td>NaN</td>\n",
       "      <td>342.0</td>\n",
       "      <td>0</td>\n",
       "      <td>Transient-Party</td>\n",
       "      <td>32.00</td>\n",
       "      <td>0</td>\n",
       "      <td>0</td>\n",
       "      <td>Check-Out</td>\n",
       "      <td>2015-11-22</td>\n",
       "    </tr>\n",
       "    <tr>\n",
       "      <th>101394</th>\n",
       "      <td>City Hotel</td>\n",
       "      <td>0</td>\n",
       "      <td>95</td>\n",
       "      <td>2016</td>\n",
       "      <td>November</td>\n",
       "      <td>46</td>\n",
       "      <td>6</td>\n",
       "      <td>2</td>\n",
       "      <td>3</td>\n",
       "      <td>2</td>\n",
       "      <td>...</td>\n",
       "      <td>No Deposit</td>\n",
       "      <td>85.0</td>\n",
       "      <td>NaN</td>\n",
       "      <td>0</td>\n",
       "      <td>Transient</td>\n",
       "      <td>59.50</td>\n",
       "      <td>0</td>\n",
       "      <td>0</td>\n",
       "      <td>Check-Out</td>\n",
       "      <td>2016-11-11</td>\n",
       "    </tr>\n",
       "    <tr>\n",
       "      <th>103284</th>\n",
       "      <td>City Hotel</td>\n",
       "      <td>0</td>\n",
       "      <td>67</td>\n",
       "      <td>2016</td>\n",
       "      <td>December</td>\n",
       "      <td>51</td>\n",
       "      <td>16</td>\n",
       "      <td>0</td>\n",
       "      <td>2</td>\n",
       "      <td>2</td>\n",
       "      <td>...</td>\n",
       "      <td>No Deposit</td>\n",
       "      <td>28.0</td>\n",
       "      <td>NaN</td>\n",
       "      <td>0</td>\n",
       "      <td>Transient</td>\n",
       "      <td>68.00</td>\n",
       "      <td>0</td>\n",
       "      <td>0</td>\n",
       "      <td>Check-Out</td>\n",
       "      <td>2016-12-18</td>\n",
       "    </tr>\n",
       "    <tr>\n",
       "      <th>39905</th>\n",
       "      <td>Resort Hotel</td>\n",
       "      <td>0</td>\n",
       "      <td>3</td>\n",
       "      <td>2017</td>\n",
       "      <td>August</td>\n",
       "      <td>35</td>\n",
       "      <td>30</td>\n",
       "      <td>0</td>\n",
       "      <td>2</td>\n",
       "      <td>1</td>\n",
       "      <td>...</td>\n",
       "      <td>No Deposit</td>\n",
       "      <td>NaN</td>\n",
       "      <td>NaN</td>\n",
       "      <td>0</td>\n",
       "      <td>Transient</td>\n",
       "      <td>217.00</td>\n",
       "      <td>0</td>\n",
       "      <td>1</td>\n",
       "      <td>Check-Out</td>\n",
       "      <td>2017-09-01</td>\n",
       "    </tr>\n",
       "    <tr>\n",
       "      <th>34278</th>\n",
       "      <td>Resort Hotel</td>\n",
       "      <td>0</td>\n",
       "      <td>88</td>\n",
       "      <td>2017</td>\n",
       "      <td>March</td>\n",
       "      <td>10</td>\n",
       "      <td>11</td>\n",
       "      <td>2</td>\n",
       "      <td>5</td>\n",
       "      <td>1</td>\n",
       "      <td>...</td>\n",
       "      <td>No Deposit</td>\n",
       "      <td>177.0</td>\n",
       "      <td>NaN</td>\n",
       "      <td>0</td>\n",
       "      <td>Transient-Party</td>\n",
       "      <td>32.00</td>\n",
       "      <td>0</td>\n",
       "      <td>0</td>\n",
       "      <td>Check-Out</td>\n",
       "      <td>2017-03-18</td>\n",
       "    </tr>\n",
       "    <tr>\n",
       "      <th>4955</th>\n",
       "      <td>Resort Hotel</td>\n",
       "      <td>0</td>\n",
       "      <td>275</td>\n",
       "      <td>2016</td>\n",
       "      <td>April</td>\n",
       "      <td>16</td>\n",
       "      <td>10</td>\n",
       "      <td>2</td>\n",
       "      <td>5</td>\n",
       "      <td>2</td>\n",
       "      <td>...</td>\n",
       "      <td>No Deposit</td>\n",
       "      <td>273.0</td>\n",
       "      <td>NaN</td>\n",
       "      <td>0</td>\n",
       "      <td>Transient-Party</td>\n",
       "      <td>72.45</td>\n",
       "      <td>0</td>\n",
       "      <td>0</td>\n",
       "      <td>Check-Out</td>\n",
       "      <td>2016-04-17</td>\n",
       "    </tr>\n",
       "    <tr>\n",
       "      <th>107059</th>\n",
       "      <td>City Hotel</td>\n",
       "      <td>0</td>\n",
       "      <td>1</td>\n",
       "      <td>2017</td>\n",
       "      <td>March</td>\n",
       "      <td>10</td>\n",
       "      <td>6</td>\n",
       "      <td>1</td>\n",
       "      <td>0</td>\n",
       "      <td>2</td>\n",
       "      <td>...</td>\n",
       "      <td>No Deposit</td>\n",
       "      <td>NaN</td>\n",
       "      <td>NaN</td>\n",
       "      <td>0</td>\n",
       "      <td>Transient</td>\n",
       "      <td>88.00</td>\n",
       "      <td>0</td>\n",
       "      <td>1</td>\n",
       "      <td>Check-Out</td>\n",
       "      <td>2017-03-07</td>\n",
       "    </tr>\n",
       "    <tr>\n",
       "      <th>90264</th>\n",
       "      <td>City Hotel</td>\n",
       "      <td>0</td>\n",
       "      <td>112</td>\n",
       "      <td>2016</td>\n",
       "      <td>June</td>\n",
       "      <td>23</td>\n",
       "      <td>2</td>\n",
       "      <td>0</td>\n",
       "      <td>2</td>\n",
       "      <td>2</td>\n",
       "      <td>...</td>\n",
       "      <td>No Deposit</td>\n",
       "      <td>3.0</td>\n",
       "      <td>NaN</td>\n",
       "      <td>0</td>\n",
       "      <td>Transient-Party</td>\n",
       "      <td>100.00</td>\n",
       "      <td>0</td>\n",
       "      <td>0</td>\n",
       "      <td>Check-Out</td>\n",
       "      <td>2016-06-04</td>\n",
       "    </tr>\n",
       "    <tr>\n",
       "      <th>14498</th>\n",
       "      <td>Resort Hotel</td>\n",
       "      <td>0</td>\n",
       "      <td>1</td>\n",
       "      <td>2015</td>\n",
       "      <td>November</td>\n",
       "      <td>48</td>\n",
       "      <td>25</td>\n",
       "      <td>0</td>\n",
       "      <td>1</td>\n",
       "      <td>1</td>\n",
       "      <td>...</td>\n",
       "      <td>No Deposit</td>\n",
       "      <td>78.0</td>\n",
       "      <td>NaN</td>\n",
       "      <td>0</td>\n",
       "      <td>Transient</td>\n",
       "      <td>25.00</td>\n",
       "      <td>0</td>\n",
       "      <td>0</td>\n",
       "      <td>Check-Out</td>\n",
       "      <td>2015-11-26</td>\n",
       "    </tr>\n",
       "  </tbody>\n",
       "</table>\n",
       "<p>10 rows × 32 columns</p>\n",
       "</div>"
      ],
      "text/plain": [
       "               hotel  is_canceled  lead_time  arrival_date_year  \\\n",
       "108610    City Hotel            0         73               2017   \n",
       "3200    Resort Hotel            0         78               2015   \n",
       "101394    City Hotel            0         95               2016   \n",
       "103284    City Hotel            0         67               2016   \n",
       "39905   Resort Hotel            0          3               2017   \n",
       "34278   Resort Hotel            0         88               2017   \n",
       "4955    Resort Hotel            0        275               2016   \n",
       "107059    City Hotel            0          1               2017   \n",
       "90264     City Hotel            0        112               2016   \n",
       "14498   Resort Hotel            0          1               2015   \n",
       "\n",
       "       arrival_date_month  arrival_date_week_number  \\\n",
       "108610              March                        13   \n",
       "3200             November                        47   \n",
       "101394           November                        46   \n",
       "103284           December                        51   \n",
       "39905              August                        35   \n",
       "34278               March                        10   \n",
       "4955                April                        16   \n",
       "107059              March                        10   \n",
       "90264                June                        23   \n",
       "14498            November                        48   \n",
       "\n",
       "        arrival_date_day_of_month  stays_in_weekend_nights  \\\n",
       "108610                         27                        1   \n",
       "3200                           21                        0   \n",
       "101394                          6                        2   \n",
       "103284                         16                        0   \n",
       "39905                          30                        0   \n",
       "34278                          11                        2   \n",
       "4955                           10                        2   \n",
       "107059                          6                        1   \n",
       "90264                           2                        0   \n",
       "14498                          25                        0   \n",
       "\n",
       "        stays_in_week_nights  adults  ...  deposit_type  agent company  \\\n",
       "108610                     2       2  ...    No Deposit    7.0     NaN   \n",
       "3200                       1       2  ...    No Deposit    NaN   342.0   \n",
       "101394                     3       2  ...    No Deposit   85.0     NaN   \n",
       "103284                     2       2  ...    No Deposit   28.0     NaN   \n",
       "39905                      2       1  ...    No Deposit    NaN     NaN   \n",
       "34278                      5       1  ...    No Deposit  177.0     NaN   \n",
       "4955                       5       2  ...    No Deposit  273.0     NaN   \n",
       "107059                     0       2  ...    No Deposit    NaN     NaN   \n",
       "90264                      2       2  ...    No Deposit    3.0     NaN   \n",
       "14498                      1       1  ...    No Deposit   78.0     NaN   \n",
       "\n",
       "       days_in_waiting_list    customer_type     adr  \\\n",
       "108610                    0        Transient   83.16   \n",
       "3200                      0  Transient-Party   32.00   \n",
       "101394                    0        Transient   59.50   \n",
       "103284                    0        Transient   68.00   \n",
       "39905                     0        Transient  217.00   \n",
       "34278                     0  Transient-Party   32.00   \n",
       "4955                      0  Transient-Party   72.45   \n",
       "107059                    0        Transient   88.00   \n",
       "90264                     0  Transient-Party  100.00   \n",
       "14498                     0        Transient   25.00   \n",
       "\n",
       "        required_car_parking_spaces  total_of_special_requests  \\\n",
       "108610                            0                          1   \n",
       "3200                              0                          0   \n",
       "101394                            0                          0   \n",
       "103284                            0                          0   \n",
       "39905                             0                          1   \n",
       "34278                             0                          0   \n",
       "4955                              0                          0   \n",
       "107059                            0                          1   \n",
       "90264                             0                          0   \n",
       "14498                             0                          0   \n",
       "\n",
       "        reservation_status reservation_status_date  \n",
       "108610           Check-Out              2017-03-30  \n",
       "3200             Check-Out              2015-11-22  \n",
       "101394           Check-Out              2016-11-11  \n",
       "103284           Check-Out              2016-12-18  \n",
       "39905            Check-Out              2017-09-01  \n",
       "34278            Check-Out              2017-03-18  \n",
       "4955             Check-Out              2016-04-17  \n",
       "107059           Check-Out              2017-03-07  \n",
       "90264            Check-Out              2016-06-04  \n",
       "14498            Check-Out              2015-11-26  \n",
       "\n",
       "[10 rows x 32 columns]"
      ]
     },
     "execution_count": 6,
     "metadata": {},
     "output_type": "execute_result"
    }
   ],
   "source": [
    "hotel_booking_data.sample(10)"
   ]
  },
  {
   "cell_type": "code",
   "execution_count": 7,
   "id": "ac08bc57",
   "metadata": {
    "execution": {
     "iopub.execute_input": "2021-11-20T19:13:44.565954Z",
     "iopub.status.busy": "2021-11-20T19:13:44.565203Z",
     "iopub.status.idle": "2021-11-20T19:13:44.744517Z",
     "shell.execute_reply": "2021-11-20T19:13:44.743499Z",
     "shell.execute_reply.started": "2021-11-20T17:19:27.335963Z"
    },
    "papermill": {
     "duration": 0.235485,
     "end_time": "2021-11-20T19:13:44.744727",
     "exception": false,
     "start_time": "2021-11-20T19:13:44.509242",
     "status": "completed"
    },
    "tags": []
   },
   "outputs": [
    {
     "name": "stdout",
     "output_type": "stream",
     "text": [
      "<class 'pandas.core.frame.DataFrame'>\n",
      "RangeIndex: 119390 entries, 0 to 119389\n",
      "Data columns (total 32 columns):\n",
      " #   Column                          Non-Null Count   Dtype  \n",
      "---  ------                          --------------   -----  \n",
      " 0   hotel                           119390 non-null  object \n",
      " 1   is_canceled                     119390 non-null  int64  \n",
      " 2   lead_time                       119390 non-null  int64  \n",
      " 3   arrival_date_year               119390 non-null  int64  \n",
      " 4   arrival_date_month              119390 non-null  object \n",
      " 5   arrival_date_week_number        119390 non-null  int64  \n",
      " 6   arrival_date_day_of_month       119390 non-null  int64  \n",
      " 7   stays_in_weekend_nights         119390 non-null  int64  \n",
      " 8   stays_in_week_nights            119390 non-null  int64  \n",
      " 9   adults                          119390 non-null  int64  \n",
      " 10  children                        119386 non-null  float64\n",
      " 11  babies                          119390 non-null  int64  \n",
      " 12  meal                            119390 non-null  object \n",
      " 13  country                         118902 non-null  object \n",
      " 14  market_segment                  119390 non-null  object \n",
      " 15  distribution_channel            119390 non-null  object \n",
      " 16  is_repeated_guest               119390 non-null  int64  \n",
      " 17  previous_cancellations          119390 non-null  int64  \n",
      " 18  previous_bookings_not_canceled  119390 non-null  int64  \n",
      " 19  reserved_room_type              119390 non-null  object \n",
      " 20  assigned_room_type              119390 non-null  object \n",
      " 21  booking_changes                 119390 non-null  int64  \n",
      " 22  deposit_type                    119390 non-null  object \n",
      " 23  agent                           103050 non-null  float64\n",
      " 24  company                         6797 non-null    float64\n",
      " 25  days_in_waiting_list            119390 non-null  int64  \n",
      " 26  customer_type                   119390 non-null  object \n",
      " 27  adr                             119390 non-null  float64\n",
      " 28  required_car_parking_spaces     119390 non-null  int64  \n",
      " 29  total_of_special_requests       119390 non-null  int64  \n",
      " 30  reservation_status              119390 non-null  object \n",
      " 31  reservation_status_date         119390 non-null  object \n",
      "dtypes: float64(4), int64(16), object(12)\n",
      "memory usage: 29.1+ MB\n"
     ]
    }
   ],
   "source": [
    "hotel_booking_data.info()"
   ]
  },
  {
   "cell_type": "code",
   "execution_count": 8,
   "id": "983215f2",
   "metadata": {
    "execution": {
     "iopub.execute_input": "2021-11-20T19:13:44.851054Z",
     "iopub.status.busy": "2021-11-20T19:13:44.850009Z",
     "iopub.status.idle": "2021-11-20T19:13:44.853816Z",
     "shell.execute_reply": "2021-11-20T19:13:44.854266Z",
     "shell.execute_reply.started": "2021-11-20T17:18:28.545377Z"
    },
    "papermill": {
     "duration": 0.059601,
     "end_time": "2021-11-20T19:13:44.854455",
     "exception": false,
     "start_time": "2021-11-20T19:13:44.794854",
     "status": "completed"
    },
    "tags": []
   },
   "outputs": [
    {
     "data": {
      "text/plain": [
       "Index(['hotel', 'is_canceled', 'lead_time', 'arrival_date_year',\n",
       "       'arrival_date_month', 'arrival_date_week_number',\n",
       "       'arrival_date_day_of_month', 'stays_in_weekend_nights',\n",
       "       'stays_in_week_nights', 'adults', 'children', 'babies', 'meal',\n",
       "       'country', 'market_segment', 'distribution_channel',\n",
       "       'is_repeated_guest', 'previous_cancellations',\n",
       "       'previous_bookings_not_canceled', 'reserved_room_type',\n",
       "       'assigned_room_type', 'booking_changes', 'deposit_type', 'agent',\n",
       "       'company', 'days_in_waiting_list', 'customer_type', 'adr',\n",
       "       'required_car_parking_spaces', 'total_of_special_requests',\n",
       "       'reservation_status', 'reservation_status_date'],\n",
       "      dtype='object')"
      ]
     },
     "execution_count": 8,
     "metadata": {},
     "output_type": "execute_result"
    }
   ],
   "source": [
    "hotel_booking_data.columns"
   ]
  },
  {
   "cell_type": "markdown",
   "id": "e6ad6972",
   "metadata": {
    "papermill": {
     "duration": 0.049037,
     "end_time": "2021-11-20T19:13:44.952734",
     "exception": false,
     "start_time": "2021-11-20T19:13:44.903697",
     "status": "completed"
    },
    "tags": []
   },
   "source": [
    "### Data Preprocessing"
   ]
  },
  {
   "cell_type": "markdown",
   "id": "2476ebaa",
   "metadata": {
    "papermill": {
     "duration": 0.049321,
     "end_time": "2021-11-20T19:13:45.051756",
     "exception": false,
     "start_time": "2021-11-20T19:13:45.002435",
     "status": "completed"
    },
    "tags": []
   },
   "source": [
    "#### Rename the columns"
   ]
  },
  {
   "cell_type": "code",
   "execution_count": 9,
   "id": "defd5ff4",
   "metadata": {
    "execution": {
     "iopub.execute_input": "2021-11-20T19:13:45.159383Z",
     "iopub.status.busy": "2021-11-20T19:13:45.158289Z",
     "iopub.status.idle": "2021-11-20T19:13:45.178988Z",
     "shell.execute_reply": "2021-11-20T19:13:45.179540Z",
     "shell.execute_reply.started": "2021-11-20T17:19:35.106494Z"
    },
    "papermill": {
     "duration": 0.077515,
     "end_time": "2021-11-20T19:13:45.179725",
     "exception": false,
     "start_time": "2021-11-20T19:13:45.102210",
     "status": "completed"
    },
    "tags": []
   },
   "outputs": [
    {
     "data": {
      "text/html": [
       "<div>\n",
       "<style scoped>\n",
       "    .dataframe tbody tr th:only-of-type {\n",
       "        vertical-align: middle;\n",
       "    }\n",
       "\n",
       "    .dataframe tbody tr th {\n",
       "        vertical-align: top;\n",
       "    }\n",
       "\n",
       "    .dataframe thead th {\n",
       "        text-align: right;\n",
       "    }\n",
       "</style>\n",
       "<table border=\"1\" class=\"dataframe\">\n",
       "  <thead>\n",
       "    <tr style=\"text-align: right;\">\n",
       "      <th></th>\n",
       "      <th>hotel</th>\n",
       "      <th>is_canceled</th>\n",
       "      <th>lead_time</th>\n",
       "      <th>arrival_date_year</th>\n",
       "      <th>arrival_date_month</th>\n",
       "      <th>arrival_date_week_number</th>\n",
       "      <th>arrival_date_day_of_month</th>\n",
       "      <th>stays_in_weekend_nights</th>\n",
       "      <th>stays_in_week_nights</th>\n",
       "      <th>adults</th>\n",
       "      <th>...</th>\n",
       "      <th>deposit_type</th>\n",
       "      <th>agent</th>\n",
       "      <th>company</th>\n",
       "      <th>days_in_waiting_list</th>\n",
       "      <th>customer_type</th>\n",
       "      <th>average_daily_rate</th>\n",
       "      <th>required_car_parking_spaces</th>\n",
       "      <th>total_of_special_requests</th>\n",
       "      <th>reservation_status</th>\n",
       "      <th>reservation_status_date</th>\n",
       "    </tr>\n",
       "  </thead>\n",
       "  <tbody>\n",
       "    <tr>\n",
       "      <th>0</th>\n",
       "      <td>Resort Hotel</td>\n",
       "      <td>0</td>\n",
       "      <td>342</td>\n",
       "      <td>2015</td>\n",
       "      <td>July</td>\n",
       "      <td>27</td>\n",
       "      <td>1</td>\n",
       "      <td>0</td>\n",
       "      <td>0</td>\n",
       "      <td>2</td>\n",
       "      <td>...</td>\n",
       "      <td>No Deposit</td>\n",
       "      <td>NaN</td>\n",
       "      <td>NaN</td>\n",
       "      <td>0</td>\n",
       "      <td>Transient</td>\n",
       "      <td>0.0</td>\n",
       "      <td>0</td>\n",
       "      <td>0</td>\n",
       "      <td>Check-Out</td>\n",
       "      <td>2015-07-01</td>\n",
       "    </tr>\n",
       "    <tr>\n",
       "      <th>1</th>\n",
       "      <td>Resort Hotel</td>\n",
       "      <td>0</td>\n",
       "      <td>737</td>\n",
       "      <td>2015</td>\n",
       "      <td>July</td>\n",
       "      <td>27</td>\n",
       "      <td>1</td>\n",
       "      <td>0</td>\n",
       "      <td>0</td>\n",
       "      <td>2</td>\n",
       "      <td>...</td>\n",
       "      <td>No Deposit</td>\n",
       "      <td>NaN</td>\n",
       "      <td>NaN</td>\n",
       "      <td>0</td>\n",
       "      <td>Transient</td>\n",
       "      <td>0.0</td>\n",
       "      <td>0</td>\n",
       "      <td>0</td>\n",
       "      <td>Check-Out</td>\n",
       "      <td>2015-07-01</td>\n",
       "    </tr>\n",
       "    <tr>\n",
       "      <th>2</th>\n",
       "      <td>Resort Hotel</td>\n",
       "      <td>0</td>\n",
       "      <td>7</td>\n",
       "      <td>2015</td>\n",
       "      <td>July</td>\n",
       "      <td>27</td>\n",
       "      <td>1</td>\n",
       "      <td>0</td>\n",
       "      <td>1</td>\n",
       "      <td>1</td>\n",
       "      <td>...</td>\n",
       "      <td>No Deposit</td>\n",
       "      <td>NaN</td>\n",
       "      <td>NaN</td>\n",
       "      <td>0</td>\n",
       "      <td>Transient</td>\n",
       "      <td>75.0</td>\n",
       "      <td>0</td>\n",
       "      <td>0</td>\n",
       "      <td>Check-Out</td>\n",
       "      <td>2015-07-02</td>\n",
       "    </tr>\n",
       "    <tr>\n",
       "      <th>3</th>\n",
       "      <td>Resort Hotel</td>\n",
       "      <td>0</td>\n",
       "      <td>13</td>\n",
       "      <td>2015</td>\n",
       "      <td>July</td>\n",
       "      <td>27</td>\n",
       "      <td>1</td>\n",
       "      <td>0</td>\n",
       "      <td>1</td>\n",
       "      <td>1</td>\n",
       "      <td>...</td>\n",
       "      <td>No Deposit</td>\n",
       "      <td>304.0</td>\n",
       "      <td>NaN</td>\n",
       "      <td>0</td>\n",
       "      <td>Transient</td>\n",
       "      <td>75.0</td>\n",
       "      <td>0</td>\n",
       "      <td>0</td>\n",
       "      <td>Check-Out</td>\n",
       "      <td>2015-07-02</td>\n",
       "    </tr>\n",
       "    <tr>\n",
       "      <th>4</th>\n",
       "      <td>Resort Hotel</td>\n",
       "      <td>0</td>\n",
       "      <td>14</td>\n",
       "      <td>2015</td>\n",
       "      <td>July</td>\n",
       "      <td>27</td>\n",
       "      <td>1</td>\n",
       "      <td>0</td>\n",
       "      <td>2</td>\n",
       "      <td>2</td>\n",
       "      <td>...</td>\n",
       "      <td>No Deposit</td>\n",
       "      <td>240.0</td>\n",
       "      <td>NaN</td>\n",
       "      <td>0</td>\n",
       "      <td>Transient</td>\n",
       "      <td>98.0</td>\n",
       "      <td>0</td>\n",
       "      <td>1</td>\n",
       "      <td>Check-Out</td>\n",
       "      <td>2015-07-03</td>\n",
       "    </tr>\n",
       "  </tbody>\n",
       "</table>\n",
       "<p>5 rows × 32 columns</p>\n",
       "</div>"
      ],
      "text/plain": [
       "          hotel  is_canceled  lead_time  arrival_date_year arrival_date_month  \\\n",
       "0  Resort Hotel            0        342               2015               July   \n",
       "1  Resort Hotel            0        737               2015               July   \n",
       "2  Resort Hotel            0          7               2015               July   \n",
       "3  Resort Hotel            0         13               2015               July   \n",
       "4  Resort Hotel            0         14               2015               July   \n",
       "\n",
       "   arrival_date_week_number  arrival_date_day_of_month  \\\n",
       "0                        27                          1   \n",
       "1                        27                          1   \n",
       "2                        27                          1   \n",
       "3                        27                          1   \n",
       "4                        27                          1   \n",
       "\n",
       "   stays_in_weekend_nights  stays_in_week_nights  adults  ...  deposit_type  \\\n",
       "0                        0                     0       2  ...    No Deposit   \n",
       "1                        0                     0       2  ...    No Deposit   \n",
       "2                        0                     1       1  ...    No Deposit   \n",
       "3                        0                     1       1  ...    No Deposit   \n",
       "4                        0                     2       2  ...    No Deposit   \n",
       "\n",
       "   agent company days_in_waiting_list customer_type average_daily_rate  \\\n",
       "0    NaN     NaN                    0     Transient                0.0   \n",
       "1    NaN     NaN                    0     Transient                0.0   \n",
       "2    NaN     NaN                    0     Transient               75.0   \n",
       "3  304.0     NaN                    0     Transient               75.0   \n",
       "4  240.0     NaN                    0     Transient               98.0   \n",
       "\n",
       "   required_car_parking_spaces  total_of_special_requests  reservation_status  \\\n",
       "0                            0                          0           Check-Out   \n",
       "1                            0                          0           Check-Out   \n",
       "2                            0                          0           Check-Out   \n",
       "3                            0                          0           Check-Out   \n",
       "4                            0                          1           Check-Out   \n",
       "\n",
       "  reservation_status_date  \n",
       "0              2015-07-01  \n",
       "1              2015-07-01  \n",
       "2              2015-07-02  \n",
       "3              2015-07-02  \n",
       "4              2015-07-03  \n",
       "\n",
       "[5 rows x 32 columns]"
      ]
     },
     "execution_count": 9,
     "metadata": {},
     "output_type": "execute_result"
    }
   ],
   "source": [
    "# Rename the columns to be more readable\n",
    "hotel_booking_data.rename(columns={'adr': 'average_daily_rate'},inplace=True)\n",
    "hotel_booking_data.head()"
   ]
  },
  {
   "cell_type": "markdown",
   "id": "d88b4611",
   "metadata": {
    "papermill": {
     "duration": 0.049742,
     "end_time": "2021-11-20T19:13:45.279937",
     "exception": false,
     "start_time": "2021-11-20T19:13:45.230195",
     "status": "completed"
    },
    "tags": []
   },
   "source": [
    "#### There is feature that won't be relevant in our analysis so we will drop it"
   ]
  },
  {
   "cell_type": "code",
   "execution_count": 10,
   "id": "ac51034f",
   "metadata": {
    "execution": {
     "iopub.execute_input": "2021-11-20T19:13:45.389111Z",
     "iopub.status.busy": "2021-11-20T19:13:45.388301Z",
     "iopub.status.idle": "2021-11-20T19:13:45.408751Z",
     "shell.execute_reply": "2021-11-20T19:13:45.408112Z",
     "shell.execute_reply.started": "2021-11-20T17:19:44.064767Z"
    },
    "papermill": {
     "duration": 0.076147,
     "end_time": "2021-11-20T19:13:45.408913",
     "exception": false,
     "start_time": "2021-11-20T19:13:45.332766",
     "status": "completed"
    },
    "tags": []
   },
   "outputs": [],
   "source": [
    "# drop company column\n",
    "hotel_booking_data.drop('company',axis='columns', inplace=True);"
   ]
  },
  {
   "cell_type": "code",
   "execution_count": 11,
   "id": "337e0a2f",
   "metadata": {
    "execution": {
     "iopub.execute_input": "2021-11-20T19:13:45.516004Z",
     "iopub.status.busy": "2021-11-20T19:13:45.515123Z",
     "iopub.status.idle": "2021-11-20T19:13:45.519270Z",
     "shell.execute_reply": "2021-11-20T19:13:45.518641Z",
     "shell.execute_reply.started": "2021-11-20T17:19:48.695527Z"
    },
    "papermill": {
     "duration": 0.060336,
     "end_time": "2021-11-20T19:13:45.519445",
     "exception": false,
     "start_time": "2021-11-20T19:13:45.459109",
     "status": "completed"
    },
    "tags": []
   },
   "outputs": [
    {
     "data": {
      "text/plain": [
       "(119390, 31)"
      ]
     },
     "execution_count": 11,
     "metadata": {},
     "output_type": "execute_result"
    }
   ],
   "source": [
    "#check the number of columns after drop company column\n",
    "hotel_booking_data.shape"
   ]
  },
  {
   "cell_type": "markdown",
   "id": "38174748",
   "metadata": {
    "papermill": {
     "duration": 0.04998,
     "end_time": "2021-11-20T19:13:45.620461",
     "exception": false,
     "start_time": "2021-11-20T19:13:45.570481",
     "status": "completed"
    },
    "tags": []
   },
   "source": [
    "#### Check if there are NULL value and sum them"
   ]
  },
  {
   "cell_type": "code",
   "execution_count": 12,
   "id": "92454b08",
   "metadata": {
    "execution": {
     "iopub.execute_input": "2021-11-20T19:13:45.879266Z",
     "iopub.status.busy": "2021-11-20T19:13:45.878546Z",
     "iopub.status.idle": "2021-11-20T19:13:45.892644Z",
     "shell.execute_reply": "2021-11-20T19:13:45.891682Z",
     "shell.execute_reply.started": "2021-11-20T17:19:52.650267Z"
    },
    "papermill": {
     "duration": 0.222272,
     "end_time": "2021-11-20T19:13:45.892792",
     "exception": false,
     "start_time": "2021-11-20T19:13:45.670520",
     "status": "completed"
    },
    "tags": []
   },
   "outputs": [
    {
     "data": {
      "text/plain": [
       "hotel                                 0\n",
       "is_canceled                           0\n",
       "lead_time                             0\n",
       "arrival_date_year                     0\n",
       "arrival_date_month                    0\n",
       "arrival_date_week_number              0\n",
       "arrival_date_day_of_month             0\n",
       "stays_in_weekend_nights               0\n",
       "stays_in_week_nights                  0\n",
       "adults                                0\n",
       "children                              4\n",
       "babies                                0\n",
       "meal                                  0\n",
       "country                             488\n",
       "market_segment                        0\n",
       "distribution_channel                  0\n",
       "is_repeated_guest                     0\n",
       "previous_cancellations                0\n",
       "previous_bookings_not_canceled        0\n",
       "reserved_room_type                    0\n",
       "assigned_room_type                    0\n",
       "booking_changes                       0\n",
       "deposit_type                          0\n",
       "agent                             16340\n",
       "days_in_waiting_list                  0\n",
       "customer_type                         0\n",
       "average_daily_rate                    0\n",
       "required_car_parking_spaces           0\n",
       "total_of_special_requests             0\n",
       "reservation_status                    0\n",
       "reservation_status_date               0\n",
       "dtype: int64"
      ]
     },
     "execution_count": 12,
     "metadata": {},
     "output_type": "execute_result"
    }
   ],
   "source": [
    "hotel_booking_data.isna().sum()"
   ]
  },
  {
   "cell_type": "markdown",
   "id": "0d039709",
   "metadata": {
    "papermill": {
     "duration": 0.050576,
     "end_time": "2021-11-20T19:13:45.994992",
     "exception": false,
     "start_time": "2021-11-20T19:13:45.944416",
     "status": "completed"
    },
    "tags": []
   },
   "source": [
    "#### after check, we found some NULL value should drop it "
   ]
  },
  {
   "cell_type": "code",
   "execution_count": 13,
   "id": "d1dcfa5a",
   "metadata": {
    "execution": {
     "iopub.execute_input": "2021-11-20T19:13:46.256624Z",
     "iopub.status.busy": "2021-11-20T19:13:46.255295Z",
     "iopub.status.idle": "2021-11-20T19:13:46.292208Z",
     "shell.execute_reply": "2021-11-20T19:13:46.291610Z",
     "shell.execute_reply.started": "2021-11-20T17:19:57.538082Z"
    },
    "papermill": {
     "duration": 0.246492,
     "end_time": "2021-11-20T19:13:46.292368",
     "exception": false,
     "start_time": "2021-11-20T19:13:46.045876",
     "status": "completed"
    },
    "tags": []
   },
   "outputs": [],
   "source": [
    "# drop Null rows \n",
    "hotel_booking_data.dropna(inplace=True)"
   ]
  },
  {
   "cell_type": "markdown",
   "id": "2f03fdc6",
   "metadata": {
    "papermill": {
     "duration": 0.050283,
     "end_time": "2021-11-20T19:13:46.394815",
     "exception": false,
     "start_time": "2021-11-20T19:13:46.344532",
     "status": "completed"
    },
    "tags": []
   },
   "source": [
    "#### check if stell we have any missnig value"
   ]
  },
  {
   "cell_type": "code",
   "execution_count": 14,
   "id": "26d4bef0",
   "metadata": {
    "execution": {
     "iopub.execute_input": "2021-11-20T19:13:46.632701Z",
     "iopub.status.busy": "2021-11-20T19:13:46.631689Z",
     "iopub.status.idle": "2021-11-20T19:13:46.643729Z",
     "shell.execute_reply": "2021-11-20T19:13:46.643160Z",
     "shell.execute_reply.started": "2021-11-20T17:20:04.769698Z"
    },
    "papermill": {
     "duration": 0.198484,
     "end_time": "2021-11-20T19:13:46.643867",
     "exception": false,
     "start_time": "2021-11-20T19:13:46.445383",
     "status": "completed"
    },
    "tags": []
   },
   "outputs": [
    {
     "data": {
      "text/plain": [
       "hotel                             0\n",
       "is_canceled                       0\n",
       "lead_time                         0\n",
       "arrival_date_year                 0\n",
       "arrival_date_month                0\n",
       "arrival_date_week_number          0\n",
       "arrival_date_day_of_month         0\n",
       "stays_in_weekend_nights           0\n",
       "stays_in_week_nights              0\n",
       "adults                            0\n",
       "children                          0\n",
       "babies                            0\n",
       "meal                              0\n",
       "country                           0\n",
       "market_segment                    0\n",
       "distribution_channel              0\n",
       "is_repeated_guest                 0\n",
       "previous_cancellations            0\n",
       "previous_bookings_not_canceled    0\n",
       "reserved_room_type                0\n",
       "assigned_room_type                0\n",
       "booking_changes                   0\n",
       "deposit_type                      0\n",
       "agent                             0\n",
       "days_in_waiting_list              0\n",
       "customer_type                     0\n",
       "average_daily_rate                0\n",
       "required_car_parking_spaces       0\n",
       "total_of_special_requests         0\n",
       "reservation_status                0\n",
       "reservation_status_date           0\n",
       "dtype: int64"
      ]
     },
     "execution_count": 14,
     "metadata": {},
     "output_type": "execute_result"
    }
   ],
   "source": [
    "hotel_booking_data.isna().sum()"
   ]
  },
  {
   "cell_type": "markdown",
   "id": "3c7252df",
   "metadata": {
    "papermill": {
     "duration": 0.052076,
     "end_time": "2021-11-20T19:13:46.747307",
     "exception": false,
     "start_time": "2021-11-20T19:13:46.695231",
     "status": "completed"
    },
    "tags": []
   },
   "source": [
    "#### Now is cleaner"
   ]
  },
  {
   "cell_type": "markdown",
   "id": "63937efc",
   "metadata": {
    "papermill": {
     "duration": 0.051432,
     "end_time": "2021-11-20T19:13:46.850916",
     "exception": false,
     "start_time": "2021-11-20T19:13:46.799484",
     "status": "completed"
    },
    "tags": []
   },
   "source": [
    "#### To show if we have duplicates"
   ]
  },
  {
   "cell_type": "code",
   "execution_count": 15,
   "id": "597dea04",
   "metadata": {
    "execution": {
     "iopub.execute_input": "2021-11-20T19:13:46.967466Z",
     "iopub.status.busy": "2021-11-20T19:13:46.966732Z",
     "iopub.status.idle": "2021-11-20T19:13:47.116302Z",
     "shell.execute_reply": "2021-11-20T19:13:47.115718Z",
     "shell.execute_reply.started": "2021-11-20T17:20:55.529480Z"
    },
    "papermill": {
     "duration": 0.214119,
     "end_time": "2021-11-20T19:13:47.116469",
     "exception": false,
     "start_time": "2021-11-20T19:13:46.902350",
     "status": "completed"
    },
    "tags": []
   },
   "outputs": [
    {
     "data": {
      "text/plain": [
       "27823"
      ]
     },
     "execution_count": 15,
     "metadata": {},
     "output_type": "execute_result"
    }
   ],
   "source": [
    "hotel_booking_data.duplicated().sum()"
   ]
  },
  {
   "cell_type": "markdown",
   "id": "2856fb08",
   "metadata": {
    "papermill": {
     "duration": 0.052038,
     "end_time": "2021-11-20T19:13:47.220155",
     "exception": false,
     "start_time": "2021-11-20T19:13:47.168117",
     "status": "completed"
    },
    "tags": []
   },
   "source": [
    "#### we have a lot of duplicates should drop it "
   ]
  },
  {
   "cell_type": "code",
   "execution_count": 16,
   "id": "94eaf980",
   "metadata": {
    "execution": {
     "iopub.execute_input": "2021-11-20T19:13:47.331573Z",
     "iopub.status.busy": "2021-11-20T19:13:47.330733Z",
     "iopub.status.idle": "2021-11-20T19:13:47.486647Z",
     "shell.execute_reply": "2021-11-20T19:13:47.486059Z",
     "shell.execute_reply.started": "2021-11-20T17:21:01.388330Z"
    },
    "papermill": {
     "duration": 0.214839,
     "end_time": "2021-11-20T19:13:47.486795",
     "exception": false,
     "start_time": "2021-11-20T19:13:47.271956",
     "status": "completed"
    },
    "tags": []
   },
   "outputs": [],
   "source": [
    "# drop the duplicates\n",
    "hotel_booking_data = hotel_booking_data.drop_duplicates()"
   ]
  },
  {
   "cell_type": "markdown",
   "id": "2891f0d1",
   "metadata": {
    "papermill": {
     "duration": 0.05152,
     "end_time": "2021-11-20T19:13:47.590436",
     "exception": false,
     "start_time": "2021-11-20T19:13:47.538916",
     "status": "completed"
    },
    "tags": []
   },
   "source": [
    "check after drop the duplicates"
   ]
  },
  {
   "cell_type": "code",
   "execution_count": 17,
   "id": "9739c51a",
   "metadata": {
    "execution": {
     "iopub.execute_input": "2021-11-20T19:13:47.703579Z",
     "iopub.status.busy": "2021-11-20T19:13:47.702876Z",
     "iopub.status.idle": "2021-11-20T19:13:47.824528Z",
     "shell.execute_reply": "2021-11-20T19:13:47.823971Z",
     "shell.execute_reply.started": "2021-11-20T17:21:07.880216Z"
    },
    "papermill": {
     "duration": 0.182452,
     "end_time": "2021-11-20T19:13:47.824670",
     "exception": false,
     "start_time": "2021-11-20T19:13:47.642218",
     "status": "completed"
    },
    "tags": []
   },
   "outputs": [
    {
     "data": {
      "text/plain": [
       "0"
      ]
     },
     "execution_count": 17,
     "metadata": {},
     "output_type": "execute_result"
    }
   ],
   "source": [
    "hotel_booking_data.duplicated().sum()"
   ]
  },
  {
   "cell_type": "markdown",
   "id": "717e44d3",
   "metadata": {
    "papermill": {
     "duration": 0.05205,
     "end_time": "2021-11-20T19:13:47.928903",
     "exception": false,
     "start_time": "2021-11-20T19:13:47.876853",
     "status": "completed"
    },
    "tags": []
   },
   "source": [
    "#### Check if we have any negative value"
   ]
  },
  {
   "cell_type": "code",
   "execution_count": 18,
   "id": "c8cec2ed",
   "metadata": {
    "execution": {
     "iopub.execute_input": "2021-11-20T19:13:48.041018Z",
     "iopub.status.busy": "2021-11-20T19:13:48.040308Z",
     "iopub.status.idle": "2021-11-20T19:13:48.126181Z",
     "shell.execute_reply": "2021-11-20T19:13:48.125676Z"
    },
    "papermill": {
     "duration": 0.146206,
     "end_time": "2021-11-20T19:13:48.126334",
     "exception": false,
     "start_time": "2021-11-20T19:13:47.980128",
     "status": "completed"
    },
    "tags": []
   },
   "outputs": [
    {
     "data": {
      "text/html": [
       "<div>\n",
       "<style scoped>\n",
       "    .dataframe tbody tr th:only-of-type {\n",
       "        vertical-align: middle;\n",
       "    }\n",
       "\n",
       "    .dataframe tbody tr th {\n",
       "        vertical-align: top;\n",
       "    }\n",
       "\n",
       "    .dataframe thead th {\n",
       "        text-align: right;\n",
       "    }\n",
       "</style>\n",
       "<table border=\"1\" class=\"dataframe\">\n",
       "  <thead>\n",
       "    <tr style=\"text-align: right;\">\n",
       "      <th></th>\n",
       "      <th>is_canceled</th>\n",
       "      <th>lead_time</th>\n",
       "      <th>arrival_date_year</th>\n",
       "      <th>arrival_date_week_number</th>\n",
       "      <th>arrival_date_day_of_month</th>\n",
       "      <th>stays_in_weekend_nights</th>\n",
       "      <th>stays_in_week_nights</th>\n",
       "      <th>adults</th>\n",
       "      <th>children</th>\n",
       "      <th>babies</th>\n",
       "      <th>is_repeated_guest</th>\n",
       "      <th>previous_cancellations</th>\n",
       "      <th>previous_bookings_not_canceled</th>\n",
       "      <th>booking_changes</th>\n",
       "      <th>agent</th>\n",
       "      <th>days_in_waiting_list</th>\n",
       "      <th>average_daily_rate</th>\n",
       "      <th>required_car_parking_spaces</th>\n",
       "      <th>total_of_special_requests</th>\n",
       "    </tr>\n",
       "  </thead>\n",
       "  <tbody>\n",
       "    <tr>\n",
       "      <th>count</th>\n",
       "      <td>75071.000000</td>\n",
       "      <td>75071.000000</td>\n",
       "      <td>75071.000000</td>\n",
       "      <td>75071.000000</td>\n",
       "      <td>75071.000000</td>\n",
       "      <td>75071.000000</td>\n",
       "      <td>75071.000000</td>\n",
       "      <td>75071.000000</td>\n",
       "      <td>75071.000000</td>\n",
       "      <td>75071.000000</td>\n",
       "      <td>75071.000000</td>\n",
       "      <td>75071.000000</td>\n",
       "      <td>75071.000000</td>\n",
       "      <td>75071.000000</td>\n",
       "      <td>75071.000000</td>\n",
       "      <td>75071.000000</td>\n",
       "      <td>75071.000000</td>\n",
       "      <td>75071.000000</td>\n",
       "      <td>75071.000000</td>\n",
       "    </tr>\n",
       "    <tr>\n",
       "      <th>mean</th>\n",
       "      <td>0.299210</td>\n",
       "      <td>86.921981</td>\n",
       "      <td>2016.225520</td>\n",
       "      <td>26.919716</td>\n",
       "      <td>15.797818</td>\n",
       "      <td>1.070253</td>\n",
       "      <td>2.751036</td>\n",
       "      <td>1.924591</td>\n",
       "      <td>0.148899</td>\n",
       "      <td>0.010510</td>\n",
       "      <td>0.014626</td>\n",
       "      <td>0.019688</td>\n",
       "      <td>0.032889</td>\n",
       "      <td>0.248218</td>\n",
       "      <td>93.932784</td>\n",
       "      <td>0.810273</td>\n",
       "      <td>110.199214</td>\n",
       "      <td>0.072145</td>\n",
       "      <td>0.739420</td>\n",
       "    </tr>\n",
       "    <tr>\n",
       "      <th>std</th>\n",
       "      <td>0.457915</td>\n",
       "      <td>85.956707</td>\n",
       "      <td>0.682752</td>\n",
       "      <td>13.363077</td>\n",
       "      <td>8.845078</td>\n",
       "      <td>1.032607</td>\n",
       "      <td>2.042798</td>\n",
       "      <td>0.519041</td>\n",
       "      <td>0.471509</td>\n",
       "      <td>0.113361</td>\n",
       "      <td>0.120052</td>\n",
       "      <td>0.316184</td>\n",
       "      <td>0.509008</td>\n",
       "      <td>0.698098</td>\n",
       "      <td>113.111819</td>\n",
       "      <td>10.573899</td>\n",
       "      <td>54.386522</td>\n",
       "      <td>0.260218</td>\n",
       "      <td>0.832634</td>\n",
       "    </tr>\n",
       "    <tr>\n",
       "      <th>min</th>\n",
       "      <td>0.000000</td>\n",
       "      <td>0.000000</td>\n",
       "      <td>2015.000000</td>\n",
       "      <td>1.000000</td>\n",
       "      <td>1.000000</td>\n",
       "      <td>0.000000</td>\n",
       "      <td>0.000000</td>\n",
       "      <td>0.000000</td>\n",
       "      <td>0.000000</td>\n",
       "      <td>0.000000</td>\n",
       "      <td>0.000000</td>\n",
       "      <td>0.000000</td>\n",
       "      <td>0.000000</td>\n",
       "      <td>0.000000</td>\n",
       "      <td>1.000000</td>\n",
       "      <td>0.000000</td>\n",
       "      <td>-6.380000</td>\n",
       "      <td>0.000000</td>\n",
       "      <td>0.000000</td>\n",
       "    </tr>\n",
       "    <tr>\n",
       "      <th>25%</th>\n",
       "      <td>0.000000</td>\n",
       "      <td>18.000000</td>\n",
       "      <td>2016.000000</td>\n",
       "      <td>16.000000</td>\n",
       "      <td>8.000000</td>\n",
       "      <td>0.000000</td>\n",
       "      <td>1.000000</td>\n",
       "      <td>2.000000</td>\n",
       "      <td>0.000000</td>\n",
       "      <td>0.000000</td>\n",
       "      <td>0.000000</td>\n",
       "      <td>0.000000</td>\n",
       "      <td>0.000000</td>\n",
       "      <td>0.000000</td>\n",
       "      <td>9.000000</td>\n",
       "      <td>0.000000</td>\n",
       "      <td>76.000000</td>\n",
       "      <td>0.000000</td>\n",
       "      <td>0.000000</td>\n",
       "    </tr>\n",
       "    <tr>\n",
       "      <th>50%</th>\n",
       "      <td>0.000000</td>\n",
       "      <td>59.000000</td>\n",
       "      <td>2016.000000</td>\n",
       "      <td>28.000000</td>\n",
       "      <td>16.000000</td>\n",
       "      <td>1.000000</td>\n",
       "      <td>2.000000</td>\n",
       "      <td>2.000000</td>\n",
       "      <td>0.000000</td>\n",
       "      <td>0.000000</td>\n",
       "      <td>0.000000</td>\n",
       "      <td>0.000000</td>\n",
       "      <td>0.000000</td>\n",
       "      <td>0.000000</td>\n",
       "      <td>14.000000</td>\n",
       "      <td>0.000000</td>\n",
       "      <td>101.600000</td>\n",
       "      <td>0.000000</td>\n",
       "      <td>1.000000</td>\n",
       "    </tr>\n",
       "    <tr>\n",
       "      <th>75%</th>\n",
       "      <td>1.000000</td>\n",
       "      <td>134.000000</td>\n",
       "      <td>2017.000000</td>\n",
       "      <td>37.000000</td>\n",
       "      <td>24.000000</td>\n",
       "      <td>2.000000</td>\n",
       "      <td>4.000000</td>\n",
       "      <td>2.000000</td>\n",
       "      <td>0.000000</td>\n",
       "      <td>0.000000</td>\n",
       "      <td>0.000000</td>\n",
       "      <td>0.000000</td>\n",
       "      <td>0.000000</td>\n",
       "      <td>0.000000</td>\n",
       "      <td>240.000000</td>\n",
       "      <td>0.000000</td>\n",
       "      <td>136.810000</td>\n",
       "      <td>0.000000</td>\n",
       "      <td>1.000000</td>\n",
       "    </tr>\n",
       "    <tr>\n",
       "      <th>max</th>\n",
       "      <td>1.000000</td>\n",
       "      <td>629.000000</td>\n",
       "      <td>2017.000000</td>\n",
       "      <td>53.000000</td>\n",
       "      <td>31.000000</td>\n",
       "      <td>16.000000</td>\n",
       "      <td>41.000000</td>\n",
       "      <td>26.000000</td>\n",
       "      <td>10.000000</td>\n",
       "      <td>10.000000</td>\n",
       "      <td>1.000000</td>\n",
       "      <td>26.000000</td>\n",
       "      <td>50.000000</td>\n",
       "      <td>18.000000</td>\n",
       "      <td>535.000000</td>\n",
       "      <td>391.000000</td>\n",
       "      <td>5400.000000</td>\n",
       "      <td>3.000000</td>\n",
       "      <td>5.000000</td>\n",
       "    </tr>\n",
       "  </tbody>\n",
       "</table>\n",
       "</div>"
      ],
      "text/plain": [
       "        is_canceled     lead_time  arrival_date_year  \\\n",
       "count  75071.000000  75071.000000       75071.000000   \n",
       "mean       0.299210     86.921981        2016.225520   \n",
       "std        0.457915     85.956707           0.682752   \n",
       "min        0.000000      0.000000        2015.000000   \n",
       "25%        0.000000     18.000000        2016.000000   \n",
       "50%        0.000000     59.000000        2016.000000   \n",
       "75%        1.000000    134.000000        2017.000000   \n",
       "max        1.000000    629.000000        2017.000000   \n",
       "\n",
       "       arrival_date_week_number  arrival_date_day_of_month  \\\n",
       "count              75071.000000               75071.000000   \n",
       "mean                  26.919716                  15.797818   \n",
       "std                   13.363077                   8.845078   \n",
       "min                    1.000000                   1.000000   \n",
       "25%                   16.000000                   8.000000   \n",
       "50%                   28.000000                  16.000000   \n",
       "75%                   37.000000                  24.000000   \n",
       "max                   53.000000                  31.000000   \n",
       "\n",
       "       stays_in_weekend_nights  stays_in_week_nights        adults  \\\n",
       "count             75071.000000          75071.000000  75071.000000   \n",
       "mean                  1.070253              2.751036      1.924591   \n",
       "std                   1.032607              2.042798      0.519041   \n",
       "min                   0.000000              0.000000      0.000000   \n",
       "25%                   0.000000              1.000000      2.000000   \n",
       "50%                   1.000000              2.000000      2.000000   \n",
       "75%                   2.000000              4.000000      2.000000   \n",
       "max                  16.000000             41.000000     26.000000   \n",
       "\n",
       "           children        babies  is_repeated_guest  previous_cancellations  \\\n",
       "count  75071.000000  75071.000000       75071.000000            75071.000000   \n",
       "mean       0.148899      0.010510           0.014626                0.019688   \n",
       "std        0.471509      0.113361           0.120052                0.316184   \n",
       "min        0.000000      0.000000           0.000000                0.000000   \n",
       "25%        0.000000      0.000000           0.000000                0.000000   \n",
       "50%        0.000000      0.000000           0.000000                0.000000   \n",
       "75%        0.000000      0.000000           0.000000                0.000000   \n",
       "max       10.000000     10.000000           1.000000               26.000000   \n",
       "\n",
       "       previous_bookings_not_canceled  booking_changes         agent  \\\n",
       "count                    75071.000000     75071.000000  75071.000000   \n",
       "mean                         0.032889         0.248218     93.932784   \n",
       "std                          0.509008         0.698098    113.111819   \n",
       "min                          0.000000         0.000000      1.000000   \n",
       "25%                          0.000000         0.000000      9.000000   \n",
       "50%                          0.000000         0.000000     14.000000   \n",
       "75%                          0.000000         0.000000    240.000000   \n",
       "max                         50.000000        18.000000    535.000000   \n",
       "\n",
       "       days_in_waiting_list  average_daily_rate  required_car_parking_spaces  \\\n",
       "count          75071.000000        75071.000000                 75071.000000   \n",
       "mean               0.810273          110.199214                     0.072145   \n",
       "std               10.573899           54.386522                     0.260218   \n",
       "min                0.000000           -6.380000                     0.000000   \n",
       "25%                0.000000           76.000000                     0.000000   \n",
       "50%                0.000000          101.600000                     0.000000   \n",
       "75%                0.000000          136.810000                     0.000000   \n",
       "max              391.000000         5400.000000                     3.000000   \n",
       "\n",
       "       total_of_special_requests  \n",
       "count               75071.000000  \n",
       "mean                    0.739420  \n",
       "std                     0.832634  \n",
       "min                     0.000000  \n",
       "25%                     0.000000  \n",
       "50%                     1.000000  \n",
       "75%                     1.000000  \n",
       "max                     5.000000  "
      ]
     },
     "execution_count": 18,
     "metadata": {},
     "output_type": "execute_result"
    }
   ],
   "source": [
    "hotel_booking_data.describe()"
   ]
  },
  {
   "cell_type": "markdown",
   "id": "7474b752",
   "metadata": {
    "papermill": {
     "duration": 0.051957,
     "end_time": "2021-11-20T19:13:48.231024",
     "exception": false,
     "start_time": "2021-11-20T19:13:48.179067",
     "status": "completed"
    },
    "tags": []
   },
   "source": [
    "#### to remove negative value from average_daily_rate"
   ]
  },
  {
   "cell_type": "code",
   "execution_count": 19,
   "id": "37db8175",
   "metadata": {
    "execution": {
     "iopub.execute_input": "2021-11-20T19:13:48.344570Z",
     "iopub.status.busy": "2021-11-20T19:13:48.343843Z",
     "iopub.status.idle": "2021-11-20T19:13:48.361351Z",
     "shell.execute_reply": "2021-11-20T19:13:48.360714Z",
     "shell.execute_reply.started": "2021-11-20T17:21:39.084421Z"
    },
    "papermill": {
     "duration": 0.077947,
     "end_time": "2021-11-20T19:13:48.361495",
     "exception": false,
     "start_time": "2021-11-20T19:13:48.283548",
     "status": "completed"
    },
    "tags": []
   },
   "outputs": [],
   "source": [
    "hotel_booking_data.drop(hotel_booking_data[hotel_booking_data.average_daily_rate<1.0].index,inplace=True)"
   ]
  },
  {
   "cell_type": "code",
   "execution_count": 20,
   "id": "b1dc39d7",
   "metadata": {
    "execution": {
     "iopub.execute_input": "2021-11-20T19:13:48.470549Z",
     "iopub.status.busy": "2021-11-20T19:13:48.469903Z",
     "iopub.status.idle": "2021-11-20T19:13:48.474726Z",
     "shell.execute_reply": "2021-11-20T19:13:48.475229Z",
     "shell.execute_reply.started": "2021-11-20T17:23:08.776692Z"
    },
    "papermill": {
     "duration": 0.06107,
     "end_time": "2021-11-20T19:13:48.475428",
     "exception": false,
     "start_time": "2021-11-20T19:13:48.414358",
     "status": "completed"
    },
    "tags": []
   },
   "outputs": [
    {
     "data": {
      "text/plain": [
       "(74178, 31)"
      ]
     },
     "execution_count": 20,
     "metadata": {},
     "output_type": "execute_result"
    }
   ],
   "source": [
    "hotel_booking_data.shape"
   ]
  },
  {
   "cell_type": "markdown",
   "id": "5aba1ff1",
   "metadata": {
    "papermill": {
     "duration": 0.053923,
     "end_time": "2021-11-20T19:13:48.583366",
     "exception": false,
     "start_time": "2021-11-20T19:13:48.529443",
     "status": "completed"
    },
    "tags": []
   },
   "source": [
    "### Data Visualization"
   ]
  },
  {
   "cell_type": "code",
   "execution_count": 21,
   "id": "2431a8d6",
   "metadata": {
    "execution": {
     "iopub.execute_input": "2021-11-20T19:13:48.693917Z",
     "iopub.status.busy": "2021-11-20T19:13:48.693227Z",
     "iopub.status.idle": "2021-11-20T19:13:48.704938Z",
     "shell.execute_reply": "2021-11-20T19:13:48.704419Z",
     "shell.execute_reply.started": "2021-11-20T16:37:32.036478Z"
    },
    "papermill": {
     "duration": 0.06819,
     "end_time": "2021-11-20T19:13:48.705079",
     "exception": false,
     "start_time": "2021-11-20T19:13:48.636889",
     "status": "completed"
    },
    "tags": []
   },
   "outputs": [
    {
     "data": {
      "text/plain": [
       "array(['Resort Hotel', 'City Hotel'], dtype=object)"
      ]
     },
     "execution_count": 21,
     "metadata": {},
     "output_type": "execute_result"
    }
   ],
   "source": [
    "# Show the type of hotel\n",
    "hotel_booking_data.hotel.unique()"
   ]
  },
  {
   "cell_type": "code",
   "execution_count": 22,
   "id": "bb04032c",
   "metadata": {
    "execution": {
     "iopub.execute_input": "2021-11-20T19:13:48.831093Z",
     "iopub.status.busy": "2021-11-20T19:13:48.830427Z",
     "iopub.status.idle": "2021-11-20T19:13:48.834031Z",
     "shell.execute_reply": "2021-11-20T19:13:48.833537Z",
     "shell.execute_reply.started": "2021-11-20T16:37:32.055360Z"
    },
    "papermill": {
     "duration": 0.075433,
     "end_time": "2021-11-20T19:13:48.834185",
     "exception": false,
     "start_time": "2021-11-20T19:13:48.758752",
     "status": "completed"
    },
    "tags": []
   },
   "outputs": [
    {
     "data": {
      "text/plain": [
       "City Hotel      47327\n",
       "Resort Hotel    26851\n",
       "Name: hotel, dtype: int64"
      ]
     },
     "execution_count": 22,
     "metadata": {},
     "output_type": "execute_result"
    }
   ],
   "source": [
    "hotel_booking_data['hotel'].value_counts()"
   ]
  },
  {
   "cell_type": "code",
   "execution_count": 23,
   "id": "9df2bafc",
   "metadata": {
    "execution": {
     "iopub.execute_input": "2021-11-20T19:13:48.946022Z",
     "iopub.status.busy": "2021-11-20T19:13:48.945311Z",
     "iopub.status.idle": "2021-11-20T19:13:49.106567Z",
     "shell.execute_reply": "2021-11-20T19:13:49.105961Z",
     "shell.execute_reply.started": "2021-11-20T16:37:32.076241Z"
    },
    "papermill": {
     "duration": 0.218171,
     "end_time": "2021-11-20T19:13:49.106709",
     "exception": false,
     "start_time": "2021-11-20T19:13:48.888538",
     "status": "completed"
    },
    "tags": []
   },
   "outputs": [
    {
     "data": {
      "image/png": "[encoded data removed]",
      "text/plain": [
       "<Figure size 360x360 with 1 Axes>"
      ]
     },
     "metadata": {},
     "output_type": "display_data"
    }
   ],
   "source": [
    "labels = hotel_booking_data.hotel.value_counts().index\n",
    "sizes = hotel_booking_data.hotel.value_counts()\n",
    "plt.figure(figsize = (5,5))\n",
    "plt.pie(sizes, labels=labels, autopct='%1.1f%%',colors = ['#ADD8E6','#007399'])\n",
    "plt.title('City hotel v Resort hotel',color = 'black',fontsize = 13);"
   ]
  },
  {
   "cell_type": "markdown",
   "id": "752db2a2",
   "metadata": {
    "papermill": {
     "duration": 0.05415,
     "end_time": "2021-11-20T19:13:49.216222",
     "exception": false,
     "start_time": "2021-11-20T19:13:49.162072",
     "status": "completed"
    },
    "tags": []
   },
   "source": [
    "#### City hotel is more than resort hotel"
   ]
  },
  {
   "cell_type": "markdown",
   "id": "1e67ac2b",
   "metadata": {
    "papermill": {
     "duration": 0.054419,
     "end_time": "2021-11-20T19:13:49.326112",
     "exception": false,
     "start_time": "2021-11-20T19:13:49.271693",
     "status": "completed"
    },
    "tags": []
   },
   "source": [
    " One third of the hotels are resort hotels.\n",
    " \n",
    "#### The reason could be that:\n",
    "\n",
    "Tere are more city hotels than resort hotels.\n",
    "\n",
    "City Hotel are normally cheaper.\n",
    " \n",
    "There are more demand for city hotels than resort hotels."
   ]
  },
  {
   "cell_type": "markdown",
   "id": "3fa49a80",
   "metadata": {
    "papermill": {
     "duration": 0.054706,
     "end_time": "2021-11-20T19:13:49.437993",
     "exception": false,
     "start_time": "2021-11-20T19:13:49.383287",
     "status": "completed"
    },
    "tags": []
   },
   "source": [
    "#### compare the cancelings between two hotels.\n",
    "\n",
    "#### Which type of hotel has the highest number of cancellations?"
   ]
  },
  {
   "cell_type": "code",
   "execution_count": 24,
   "id": "24601c6d",
   "metadata": {
    "execution": {
     "iopub.execute_input": "2021-11-20T19:13:49.602091Z",
     "iopub.status.busy": "2021-11-20T19:13:49.601410Z",
     "iopub.status.idle": "2021-11-20T19:13:49.977284Z",
     "shell.execute_reply": "2021-11-20T19:13:49.977794Z",
     "shell.execute_reply.started": "2021-11-20T19:03:54.511653Z"
    },
    "papermill": {
     "duration": 0.484894,
     "end_time": "2021-11-20T19:13:49.977974",
     "exception": false,
     "start_time": "2021-11-20T19:13:49.493080",
     "status": "completed"
    },
    "tags": []
   },
   "outputs": [
    {
     "data": {
      "image/png": "[encoded data removed]",
      "text/plain": [
       "<Figure size 720x360 with 1 Axes>"
      ]
     },
     "metadata": {
      "needs_background": "light"
     },
     "output_type": "display_data"
    }
   ],
   "source": [
    "plt.figure(figsize=(10,5))\n",
    "sns.countplot(data=hotel_booking_data, x = 'hotel',hue='is_canceled',palette='Blues')\n",
    "plt.title(\"Type of hotel has the highest number of cancellations\",fontsize=16)\n",
    "plt.legend(['not canceled','canceled'],shadow = True, loc = 0)\n",
    "plt.show()\n",
    "\n",
    "\n"
   ]
  },
  {
   "cell_type": "markdown",
   "id": "7b38863c",
   "metadata": {
    "papermill": {
     "duration": 0.055061,
     "end_time": "2021-11-20T19:13:50.088797",
     "exception": false,
     "start_time": "2021-11-20T19:13:50.033736",
     "status": "completed"
    },
    "tags": []
   },
   "source": [
    "#### The above figure shows the absolute amount of the canceled order of the city hotel and the resort hotel. The big difference does not tell us much information, since the city hotel has overall much more orders. Only the cancellation rate matters.\n"
   ]
  },
  {
   "cell_type": "code",
   "execution_count": 25,
   "id": "de3e57e2",
   "metadata": {
    "execution": {
     "iopub.execute_input": "2021-11-20T19:13:50.204984Z",
     "iopub.status.busy": "2021-11-20T19:13:50.204290Z",
     "iopub.status.idle": "2021-11-20T19:13:50.226908Z",
     "shell.execute_reply": "2021-11-20T19:13:50.227519Z",
     "shell.execute_reply.started": "2021-11-20T16:37:32.536830Z"
    },
    "papermill": {
     "duration": 0.082162,
     "end_time": "2021-11-20T19:13:50.227697",
     "exception": false,
     "start_time": "2021-11-20T19:13:50.145535",
     "status": "completed"
    },
    "tags": []
   },
   "outputs": [
    {
     "data": {
      "text/html": [
       "<div>\n",
       "<style scoped>\n",
       "    .dataframe tbody tr th:only-of-type {\n",
       "        vertical-align: middle;\n",
       "    }\n",
       "\n",
       "    .dataframe tbody tr th {\n",
       "        vertical-align: top;\n",
       "    }\n",
       "\n",
       "    .dataframe thead th {\n",
       "        text-align: right;\n",
       "    }\n",
       "</style>\n",
       "<table border=\"1\" class=\"dataframe\">\n",
       "  <thead>\n",
       "    <tr style=\"text-align: right;\">\n",
       "      <th></th>\n",
       "      <th>hotel</th>\n",
       "      <th>is_canceled</th>\n",
       "      <th>rate</th>\n",
       "    </tr>\n",
       "  </thead>\n",
       "  <tbody>\n",
       "    <tr>\n",
       "      <th>0</th>\n",
       "      <td>City Hotel</td>\n",
       "      <td>0</td>\n",
       "      <td>0.679549</td>\n",
       "    </tr>\n",
       "    <tr>\n",
       "      <th>1</th>\n",
       "      <td>City Hotel</td>\n",
       "      <td>1</td>\n",
       "      <td>0.320451</td>\n",
       "    </tr>\n",
       "    <tr>\n",
       "      <th>2</th>\n",
       "      <td>Resort Hotel</td>\n",
       "      <td>0</td>\n",
       "      <td>0.731146</td>\n",
       "    </tr>\n",
       "    <tr>\n",
       "      <th>3</th>\n",
       "      <td>Resort Hotel</td>\n",
       "      <td>1</td>\n",
       "      <td>0.268854</td>\n",
       "    </tr>\n",
       "  </tbody>\n",
       "</table>\n",
       "</div>"
      ],
      "text/plain": [
       "          hotel  is_canceled      rate\n",
       "0    City Hotel            0  0.679549\n",
       "1    City Hotel            1  0.320451\n",
       "2  Resort Hotel            0  0.731146\n",
       "3  Resort Hotel            1  0.268854"
      ]
     },
     "execution_count": 25,
     "metadata": {},
     "output_type": "execute_result"
    }
   ],
   "source": [
    "# Now we compare the cancel rate of the city hotel and the resort hotel\n",
    "can_rate = hotel_booking_data.groupby([\"hotel\",\"is_canceled\"]).size().reset_index(name='rate')\n",
    "summe = can_rate.groupby(\"hotel\")['rate'].transform(\"sum\")\n",
    "can_rate['rate'] = can_rate['rate'].div(summe)\n",
    "can_rate"
   ]
  },
  {
   "cell_type": "markdown",
   "id": "52b75b4c",
   "metadata": {
    "papermill": {
     "duration": 0.055598,
     "end_time": "2021-11-20T19:13:50.339400",
     "exception": false,
     "start_time": "2021-11-20T19:13:50.283802",
     "status": "completed"
    },
    "tags": []
   },
   "source": [
    "#### From the above analysis we can see that the city hotel has a much higher cancellation rate. However, if we only look at the guests who had canceled before, the guests of resort hotel has more cancellations."
   ]
  },
  {
   "cell_type": "markdown",
   "id": "dd22b8ab",
   "metadata": {
    "papermill": {
     "duration": 0.056256,
     "end_time": "2021-11-20T19:13:50.455069",
     "exception": false,
     "start_time": "2021-11-20T19:13:50.398813",
     "status": "completed"
    },
    "tags": []
   },
   "source": [
    " #### Customers with the history of cancellation"
   ]
  },
  {
   "cell_type": "code",
   "execution_count": 26,
   "id": "9ef496d3",
   "metadata": {
    "execution": {
     "iopub.execute_input": "2021-11-20T19:13:50.570803Z",
     "iopub.status.busy": "2021-11-20T19:13:50.570103Z",
     "iopub.status.idle": "2021-11-20T19:13:50.785383Z",
     "shell.execute_reply": "2021-11-20T19:13:50.785941Z",
     "shell.execute_reply.started": "2021-11-20T16:37:32.566512Z"
    },
    "papermill": {
     "duration": 0.274663,
     "end_time": "2021-11-20T19:13:50.786106",
     "exception": false,
     "start_time": "2021-11-20T19:13:50.511443",
     "status": "completed"
    },
    "tags": []
   },
   "outputs": [
    {
     "data": {
      "image/png": "[encoded data removed]",
      "text/plain": [
       "<Figure size 720x360 with 1 Axes>"
      ]
     },
     "metadata": {
      "needs_background": "light"
     },
     "output_type": "display_data"
    }
   ],
   "source": [
    "ngroup= hotel_booking_data.groupby('is_canceled', as_index= False)[['previous_cancellations']].mean()\n",
    "plt.figure(figsize=(10,5))\n",
    "plt.title(\"Customers with the history of cancellation\",fontsize=16)\n",
    "history_of_cancellation=sns.barplot(data=ngroup, x=ngroup['is_canceled'], y=ngroup['previous_cancellations'], palette='Blues')\n",
    "history_of_cancellation.set_xticklabels(['Not canceled','canceled']);"
   ]
  },
  {
   "cell_type": "markdown",
   "id": "ae9dc53d",
   "metadata": {
    "papermill": {
     "duration": 0.057181,
     "end_time": "2021-11-20T19:13:50.900246",
     "exception": false,
     "start_time": "2021-11-20T19:13:50.843065",
     "status": "completed"
    },
    "tags": []
   },
   "source": [
    "#### Customers with the history of cancellation tend to cancel more often.\n",
    "#### Interestingly repeated guests tend to cancel more!"
   ]
  },
  {
   "cell_type": "markdown",
   "id": "4264c636",
   "metadata": {
    "papermill": {
     "duration": 0.056571,
     "end_time": "2021-11-20T19:13:51.014263",
     "exception": false,
     "start_time": "2021-11-20T19:13:50.957692",
     "status": "completed"
    },
    "tags": []
   },
   "source": [
    "#### Now let's see the cancelations across customer types"
   ]
  },
  {
   "cell_type": "code",
   "execution_count": 27,
   "id": "4ae02612",
   "metadata": {
    "execution": {
     "iopub.execute_input": "2021-11-20T19:13:51.131549Z",
     "iopub.status.busy": "2021-11-20T19:13:51.130904Z",
     "iopub.status.idle": "2021-11-20T19:13:51.168379Z",
     "shell.execute_reply": "2021-11-20T19:13:51.169029Z",
     "shell.execute_reply.started": "2021-11-20T16:37:32.801117Z"
    },
    "papermill": {
     "duration": 0.097633,
     "end_time": "2021-11-20T19:13:51.169205",
     "exception": false,
     "start_time": "2021-11-20T19:13:51.071572",
     "status": "completed"
    },
    "tags": []
   },
   "outputs": [],
   "source": [
    "hotel_resort_data = hotel_booking_data[hotel_booking_data['hotel'] == 'Resort Hotel']\n",
    "hotel_city_data = hotel_booking_data[hotel_booking_data['hotel'] == 'City Hotel']"
   ]
  },
  {
   "cell_type": "code",
   "execution_count": 28,
   "id": "8bbd7769",
   "metadata": {
    "execution": {
     "iopub.execute_input": "2021-11-20T19:13:51.285392Z",
     "iopub.status.busy": "2021-11-20T19:13:51.284709Z",
     "iopub.status.idle": "2021-11-20T19:13:51.855609Z",
     "shell.execute_reply": "2021-11-20T19:13:51.854936Z",
     "shell.execute_reply.started": "2021-11-20T16:37:32.842777Z"
    },
    "papermill": {
     "duration": 0.630206,
     "end_time": "2021-11-20T19:13:51.855760",
     "exception": false,
     "start_time": "2021-11-20T19:13:51.225554",
     "status": "completed"
    },
    "tags": []
   },
   "outputs": [
    {
     "data": {
      "image/png": "[encoded data removed]",
      "text/plain": [
       "<Figure size 720x360 with 1 Axes>"
      ]
     },
     "metadata": {
      "needs_background": "light"
     },
     "output_type": "display_data"
    },
    {
     "data": {
      "image/png": "[encoded data removed]",
      "text/plain": [
       "<Figure size 720x360 with 1 Axes>"
      ]
     },
     "metadata": {
      "needs_background": "light"
     },
     "output_type": "display_data"
    }
   ],
   "source": [
    "# Cancelation across city hotel for each customer type\n",
    "plt.figure(figsize=(10,5))\n",
    "city_hotel=sns.countplot(data=hotel_city_data, x='is_canceled', hue='customer_type', palette='Blues')\n",
    "plt.title('Cancelations Across Customer Types For City Hotel', fontdict={'fontsize':16})\n",
    "city_hotel.set_xticklabels(['Not canceled','canceled'])\n",
    "\n",
    "plt.show()\n",
    "\n",
    "\n",
    "# Cancelation across resort hotel for each customer type\n",
    "plt.figure(figsize=(10,5))\n",
    "resort_hotel=sns.countplot(data=hotel_resort_data, x='is_canceled', hue='customer_type',palette='Blues')\n",
    "plt.title('Cancelations Across Customer Types For Resort Hotel', fontdict={'fontsize':16})\n",
    "resort_hotel.set_xticklabels(['Not canceled','canceled'])\n",
    "\n",
    "plt.show()"
   ]
  },
  {
   "cell_type": "markdown",
   "id": "5fc3bc32",
   "metadata": {
    "papermill": {
     "duration": 0.058199,
     "end_time": "2021-11-20T19:13:51.972609",
     "exception": false,
     "start_time": "2021-11-20T19:13:51.914410",
     "status": "completed"
    },
    "tags": []
   },
   "source": [
    "#### For City Hotel the pattern observed for canceled bookings and confirmed bookings (Not Canceled) is same. No cancelations can be observed across Contract and Group category in Resort Hotel."
   ]
  },
  {
   "cell_type": "markdown",
   "id": "bec03a65",
   "metadata": {
    "papermill": {
     "duration": 0.058598,
     "end_time": "2021-11-20T19:13:52.089867",
     "exception": false,
     "start_time": "2021-11-20T19:13:52.031269",
     "status": "completed"
    },
    "tags": []
   },
   "source": [
    "#### Show if more days in waiting list lead more cancelation?"
   ]
  },
  {
   "cell_type": "code",
   "execution_count": 30,
   "id": "182ba3d8",
   "metadata": {
    "execution": {
     "iopub.execute_input": "2021-11-20T19:13:52.217283Z",
     "iopub.status.busy": "2021-11-20T19:13:52.216605Z",
     "iopub.status.idle": "2021-11-20T19:13:52.430279Z",
     "shell.execute_reply": "2021-11-20T19:13:52.430775Z",
     "shell.execute_reply.started": "2021-11-20T16:40:21.967316Z"
    },
    "papermill": {
     "duration": 0.281224,
     "end_time": "2021-11-20T19:13:52.430949",
     "exception": false,
     "start_time": "2021-11-20T19:13:52.149725",
     "status": "completed"
    },
    "tags": []
   },
   "outputs": [
    {
     "data": {
      "image/png": "[encoded data removed]",
      "text/plain": [
       "<Figure size 720x360 with 1 Axes>"
      ]
     },
     "metadata": {
      "needs_background": "light"
     },
     "output_type": "display_data"
    }
   ],
   "source": [
    "plt.figure(figsize=(10,5))\n",
    "hotel_booking_data['is_canceled'].value_counts().plot(kind=\"bar\",rot=0)\n",
    "plt.title('Effect of waiting list on cancelation', fontdict={'fontsize':16})\n",
    "ticks_x = np.linspace(0, 1,2)\n",
    "is_canceled = ['Not canceled','canceled']\n",
    "plt.xticks(ticks_x, is_canceled);"
   ]
  },
  {
   "cell_type": "markdown",
   "id": "907ebb95",
   "metadata": {
    "papermill": {
     "duration": 0.058775,
     "end_time": "2021-11-20T19:13:52.549661",
     "exception": false,
     "start_time": "2021-11-20T19:13:52.490886",
     "status": "completed"
    },
    "tags": []
   },
   "source": [
    "#### So, more days in waiting list,is no reason to more cancel"
   ]
  },
  {
   "cell_type": "markdown",
   "id": "65c55172",
   "metadata": {
    "papermill": {
     "duration": 0.058818,
     "end_time": "2021-11-20T19:13:52.667646",
     "exception": false,
     "start_time": "2021-11-20T19:13:52.608828",
     "status": "completed"
    },
    "tags": []
   },
   "source": [
    "#### The relation between deposit type and cancelations."
   ]
  },
  {
   "cell_type": "code",
   "execution_count": 31,
   "id": "7391f870",
   "metadata": {
    "execution": {
     "iopub.execute_input": "2021-11-20T19:13:52.789782Z",
     "iopub.status.busy": "2021-11-20T19:13:52.789094Z",
     "iopub.status.idle": "2021-11-20T19:13:52.822145Z",
     "shell.execute_reply": "2021-11-20T19:13:52.822761Z",
     "shell.execute_reply.started": "2021-11-20T16:46:20.387783Z"
    },
    "papermill": {
     "duration": 0.095504,
     "end_time": "2021-11-20T19:13:52.822927",
     "exception": false,
     "start_time": "2021-11-20T19:13:52.727423",
     "status": "completed"
    },
    "tags": []
   },
   "outputs": [
    {
     "data": {
      "text/html": [
       "<div>\n",
       "<style scoped>\n",
       "    .dataframe tbody tr th:only-of-type {\n",
       "        vertical-align: middle;\n",
       "    }\n",
       "\n",
       "    .dataframe tbody tr th {\n",
       "        vertical-align: top;\n",
       "    }\n",
       "\n",
       "    .dataframe thead th {\n",
       "        text-align: right;\n",
       "    }\n",
       "</style>\n",
       "<table border=\"1\" class=\"dataframe\">\n",
       "  <thead>\n",
       "    <tr style=\"text-align: right;\">\n",
       "      <th></th>\n",
       "      <th>count</th>\n",
       "      <th>mean</th>\n",
       "      <th>std</th>\n",
       "      <th>min</th>\n",
       "      <th>25%</th>\n",
       "      <th>50%</th>\n",
       "      <th>75%</th>\n",
       "      <th>max</th>\n",
       "    </tr>\n",
       "    <tr>\n",
       "      <th>deposit_type</th>\n",
       "      <th></th>\n",
       "      <th></th>\n",
       "      <th></th>\n",
       "      <th></th>\n",
       "      <th></th>\n",
       "      <th></th>\n",
       "      <th></th>\n",
       "      <th></th>\n",
       "    </tr>\n",
       "  </thead>\n",
       "  <tbody>\n",
       "    <tr>\n",
       "      <th>No Deposit</th>\n",
       "      <td>73297.0</td>\n",
       "      <td>0.293887</td>\n",
       "      <td>0.455544</td>\n",
       "      <td>0.0</td>\n",
       "      <td>0.0</td>\n",
       "      <td>0.0</td>\n",
       "      <td>1.0</td>\n",
       "      <td>1.0</td>\n",
       "    </tr>\n",
       "    <tr>\n",
       "      <th>Non Refund</th>\n",
       "      <td>845.0</td>\n",
       "      <td>0.975148</td>\n",
       "      <td>0.155766</td>\n",
       "      <td>0.0</td>\n",
       "      <td>1.0</td>\n",
       "      <td>1.0</td>\n",
       "      <td>1.0</td>\n",
       "      <td>1.0</td>\n",
       "    </tr>\n",
       "    <tr>\n",
       "      <th>Refundable</th>\n",
       "      <td>36.0</td>\n",
       "      <td>0.555556</td>\n",
       "      <td>0.503953</td>\n",
       "      <td>0.0</td>\n",
       "      <td>0.0</td>\n",
       "      <td>1.0</td>\n",
       "      <td>1.0</td>\n",
       "      <td>1.0</td>\n",
       "    </tr>\n",
       "  </tbody>\n",
       "</table>\n",
       "</div>"
      ],
      "text/plain": [
       "                count      mean       std  min  25%  50%  75%  max\n",
       "deposit_type                                                      \n",
       "No Deposit    73297.0  0.293887  0.455544  0.0  0.0  0.0  1.0  1.0\n",
       "Non Refund      845.0  0.975148  0.155766  0.0  1.0  1.0  1.0  1.0\n",
       "Refundable       36.0  0.555556  0.503953  0.0  0.0  1.0  1.0  1.0"
      ]
     },
     "execution_count": 31,
     "metadata": {},
     "output_type": "execute_result"
    }
   ],
   "source": [
    "#group data for deposit_type:\n",
    "deposit_cancel_data = hotel_booking_data.groupby(\"deposit_type\")[\"is_canceled\"].describe()\n",
    "deposit_cancel_data"
   ]
  },
  {
   "cell_type": "code",
   "execution_count": 32,
   "id": "9ba4f737",
   "metadata": {
    "execution": {
     "iopub.execute_input": "2021-11-20T19:13:52.947583Z",
     "iopub.status.busy": "2021-11-20T19:13:52.946844Z",
     "iopub.status.idle": "2021-11-20T19:13:52.965079Z",
     "shell.execute_reply": "2021-11-20T19:13:52.964572Z",
     "shell.execute_reply.started": "2021-11-20T16:46:27.864176Z"
    },
    "papermill": {
     "duration": 0.082628,
     "end_time": "2021-11-20T19:13:52.965234",
     "exception": false,
     "start_time": "2021-11-20T19:13:52.882606",
     "status": "completed"
    },
    "tags": []
   },
   "outputs": [
    {
     "data": {
      "text/plain": [
       "No Deposit    73297\n",
       "Non Refund      845\n",
       "Refundable       36\n",
       "Name: deposit_type, dtype: int64"
      ]
     },
     "execution_count": 32,
     "metadata": {},
     "output_type": "execute_result"
    }
   ],
   "source": [
    "hotel_booking_data['deposit_type'].value_counts()"
   ]
  },
  {
   "cell_type": "markdown",
   "id": "8012eb2d",
   "metadata": {
    "papermill": {
     "duration": 0.059816,
     "end_time": "2021-11-20T19:13:53.085284",
     "exception": false,
     "start_time": "2021-11-20T19:13:53.025468",
     "status": "completed"
    },
    "tags": []
   },
   "source": [
    "#### NO Deposit is more cancellation , let's show it in visualization"
   ]
  },
  {
   "cell_type": "code",
   "execution_count": 33,
   "id": "91dfaf76",
   "metadata": {
    "execution": {
     "iopub.execute_input": "2021-11-20T19:13:53.208615Z",
     "iopub.status.busy": "2021-11-20T19:13:53.207974Z",
     "iopub.status.idle": "2021-11-20T19:13:53.413571Z",
     "shell.execute_reply": "2021-11-20T19:13:53.414689Z",
     "shell.execute_reply.started": "2021-11-20T16:40:46.839242Z"
    },
    "papermill": {
     "duration": 0.269854,
     "end_time": "2021-11-20T19:13:53.414982",
     "exception": false,
     "start_time": "2021-11-20T19:13:53.145128",
     "status": "completed"
    },
    "tags": []
   },
   "outputs": [
    {
     "data": {
      "image/png": "[encoded data removed]",
      "text/plain": [
       "<Figure size 720x360 with 1 Axes>"
      ]
     },
     "metadata": {
      "needs_background": "light"
     },
     "output_type": "display_data"
    }
   ],
   "source": [
    "plt.figure(figsize=(10, 5))\n",
    "sns.barplot(x= deposit_cancel_data.index, y= deposit_cancel_data[\"count\"]/100 ,palette='Blues')\n",
    "plt.title(\"Effect of deposit_type on cancelation\",fontsize=16)\n",
    "plt.xlabel(\"Deposit type\", fontsize=10)\n",
    "plt.ylabel(\"Cancelations [%]\",fontsize=10)\n",
    "plt.show()"
   ]
  },
  {
   "cell_type": "markdown",
   "id": "c991d612",
   "metadata": {
    "papermill": {
     "duration": 0.060756,
     "end_time": "2021-11-20T19:13:53.558143",
     "exception": false,
     "start_time": "2021-11-20T19:13:53.497387",
     "status": "completed"
    },
    "tags": []
   },
   "source": [
    "#### Over 99% of people how No deposit have canceled their hotel bookings"
   ]
  },
  {
   "cell_type": "markdown",
   "id": "dfbcd483",
   "metadata": {
    "papermill": {
     "duration": 0.060381,
     "end_time": "2021-11-20T19:13:53.679585",
     "exception": false,
     "start_time": "2021-11-20T19:13:53.619204",
     "status": "completed"
    },
    "tags": []
   },
   "source": [
    "#### let's see the relations of special request with cancelation."
   ]
  },
  {
   "cell_type": "code",
   "execution_count": 34,
   "id": "5187b1c1",
   "metadata": {
    "execution": {
     "iopub.execute_input": "2021-11-20T19:13:53.805953Z",
     "iopub.status.busy": "2021-11-20T19:13:53.805268Z",
     "iopub.status.idle": "2021-11-20T19:13:54.006535Z",
     "shell.execute_reply": "2021-11-20T19:13:54.005847Z",
     "shell.execute_reply.started": "2021-11-20T16:46:48.858329Z"
    },
    "papermill": {
     "duration": 0.266128,
     "end_time": "2021-11-20T19:13:54.006680",
     "exception": false,
     "start_time": "2021-11-20T19:13:53.740552",
     "status": "completed"
    },
    "tags": []
   },
   "outputs": [
    {
     "data": {
      "image/png": "[encoded data removed]",
      "text/plain": [
       "<Figure size 720x360 with 1 Axes>"
      ]
     },
     "metadata": {
      "needs_background": "light"
     },
     "output_type": "display_data"
    }
   ],
   "source": [
    "plt.figure(figsize=(10, 5))\n",
    "plt.title(\"Effect the total of special request on cancelation\",fontsize=16)\n",
    "total_of_special=sns.countplot(data=hotel_booking_data,x='is_canceled', palette='Blues')\n",
    "total_of_special.set_xticklabels(['Not canceled','canceled']);"
   ]
  },
  {
   "cell_type": "markdown",
   "id": "7a21c52b",
   "metadata": {
    "papermill": {
     "duration": 0.062458,
     "end_time": "2021-11-20T19:13:54.131196",
     "exception": false,
     "start_time": "2021-11-20T19:13:54.068738",
     "status": "completed"
    },
    "tags": []
   },
   "source": [
    "##### \n",
    "So total of special request it's has some effect on cancelation"
   ]
  },
  {
   "cell_type": "markdown",
   "id": "f6bf04b4",
   "metadata": {
    "papermill": {
     "duration": 0.061547,
     "end_time": "2021-11-20T19:13:54.255507",
     "exception": false,
     "start_time": "2021-11-20T19:13:54.193960",
     "status": "completed"
    },
    "tags": []
   },
   "source": [
    "### Cancelation across months for City Hotel and Resort Hotel"
   ]
  },
  {
   "cell_type": "code",
   "execution_count": 35,
   "id": "571a7572",
   "metadata": {
    "execution": {
     "iopub.execute_input": "2021-11-20T19:13:54.387831Z",
     "iopub.status.busy": "2021-11-20T19:13:54.387112Z",
     "iopub.status.idle": "2021-11-20T19:13:54.772855Z",
     "shell.execute_reply": "2021-11-20T19:13:54.772251Z",
     "shell.execute_reply.started": "2021-11-20T19:12:14.115553Z"
    },
    "papermill": {
     "duration": 0.455535,
     "end_time": "2021-11-20T19:13:54.772997",
     "exception": false,
     "start_time": "2021-11-20T19:13:54.317462",
     "status": "completed"
    },
    "tags": []
   },
   "outputs": [
    {
     "data": {
      "image/png": "[encoded data removed]",
      "text/plain": [
       "<Figure size 1080x360 with 1 Axes>"
      ]
     },
     "metadata": {
      "needs_background": "light"
     },
     "output_type": "display_data"
    }
   ],
   "source": [
    "plt.figure(figsize=(15,5))\n",
    "sns.countplot(data=hotel_city_data, x = 'arrival_date_month',hue='is_canceled',palette='Blues',order=[\"January\",\"February\",\"March\",\"April\",\"May\",\"June\",\"July\",\"August\",\"September\",\"October\",\"November\",\"December\"])\n",
    "plt.title(\"Cancelations Across Months For City Hotel\",fontsize=16)\n",
    "plt.legend(['not canceled','canceled'],shadow = True, loc = 0)\n",
    "plt.show()"
   ]
  },
  {
   "cell_type": "code",
   "execution_count": 35,
   "id": "5c7fb0ee",
   "metadata": {
    "execution": {
     "iopub.execute_input": "2021-11-20T19:13:54.918758Z",
     "iopub.status.busy": "2021-11-20T19:13:54.917804Z",
     "iopub.status.idle": "2021-11-20T19:13:55.256890Z",
     "shell.execute_reply": "2021-11-20T19:13:55.257385Z",
     "shell.execute_reply.started": "2021-11-20T19:12:34.500733Z"
    },
    "papermill": {
     "duration": 0.421322,
     "end_time": "2021-11-20T19:13:55.257565",
     "exception": false,
     "start_time": "2021-11-20T19:13:54.836243",
     "status": "completed"
    },
    "tags": []
   },
   "outputs": [
    {
     "data": {
      "image/png": "[encoded data removed]",
      "text/plain": [
       "<Figure size 1080x360 with 1 Axes>"
      ]
     },
     "metadata": {
      "needs_background": "light"
     },
     "output_type": "display_data"
    }
   ],
   "source": [
    "plt.figure(figsize=(15,5))\n",
    "sns.countplot(data=hotel_resort_data, x = 'arrival_date_month',hue='is_canceled',palette='Blues',order=[\"January\",\"February\",\"March\",\"April\",\"May\",\"June\",\"July\",\"August\",\"September\",\"October\",\"November\",\"December\"])\n",
    "plt.title(\"Cancelations Across Months For Resort Hotel\",fontsize=16)\n",
    "plt.legend(['not canceled','canceled'],shadow = True, loc = 0)\n",
    "plt.show()"
   ]
  },
  {
   "cell_type": "markdown",
   "id": "a8b8af73",
   "metadata": {
    "papermill": {
     "duration": 0.067764,
     "end_time": "2021-11-20T19:13:55.391283",
     "exception": false,
     "start_time": "2021-11-20T19:13:55.323519",
     "status": "completed"
    },
    "tags": []
   },
   "source": [
    "#### Effect of lead time on cancelation"
   ]
  },
  {
   "cell_type": "code",
   "execution_count": 36,
   "id": "42fbb4cb",
   "metadata": {
    "execution": {
     "iopub.execute_input": "2021-11-20T19:13:55.523599Z",
     "iopub.status.busy": "2021-11-20T19:13:55.522904Z",
     "iopub.status.idle": "2021-11-20T19:13:56.574238Z",
     "shell.execute_reply": "2021-11-20T19:13:56.573682Z",
     "shell.execute_reply.started": "2021-11-20T17:17:52.770976Z"
    },
    "papermill": {
     "duration": 1.1185,
     "end_time": "2021-11-20T19:13:56.574413",
     "exception": false,
     "start_time": "2021-11-20T19:13:55.455913",
     "status": "completed"
    },
    "tags": []
   },
   "outputs": [
    {
     "data": {
      "image/png": "[encoded data removed]",
      "text/plain": [
       "<Figure size 720x360 with 1 Axes>"
      ]
     },
     "metadata": {
      "needs_background": "light"
     },
     "output_type": "display_data"
    }
   ],
   "source": [
    "# group data for lead_time:\n",
    "lead_cancel_data = hotel_booking_data.groupby(\"lead_time\")[\"is_canceled\"].describe()\n",
    "\n",
    "# use only lead_times with more than 10 bookings for graph:\n",
    "lead_cancel_data_10 = lead_cancel_data.loc[lead_cancel_data[\"count\"] >= 10]\n",
    "\n",
    "#show figure:\n",
    "plt.figure(figsize=(10,5))\n",
    "sns.regplot(x=lead_cancel_data_10.index, y=lead_cancel_data_10[\"mean\"].values * 100)\n",
    "plt.title(\"Effect of lead time on cancelation\", fontsize=16)\n",
    "plt.xlabel(\"Lead time\",fontsize=10)\n",
    "plt.ylabel(\"Cancelations [%]\", fontsize=10)\n",
    "# plt.xlim(0,365)\n",
    "plt.show()\n"
   ]
  },
  {
   "cell_type": "markdown",
   "id": "28ec65b4",
   "metadata": {
    "papermill": {
     "duration": 0.064577,
     "end_time": "2021-11-20T19:13:56.705124",
     "exception": false,
     "start_time": "2021-11-20T19:13:56.640547",
     "status": "completed"
    },
    "tags": []
   },
   "source": [
    "#### Bookings made a few days before the arrival date are rarely canceled, whereas bookings made over one year in advance are canceled very often."
   ]
  },
  {
   "cell_type": "code",
   "execution_count": 37,
   "id": "ea760539",
   "metadata": {
    "execution": {
     "iopub.execute_input": "2021-11-20T19:13:56.844403Z",
     "iopub.status.busy": "2021-11-20T19:13:56.843695Z",
     "iopub.status.idle": "2021-11-20T19:13:58.357202Z",
     "shell.execute_reply": "2021-11-20T19:13:58.357730Z",
     "shell.execute_reply.started": "2021-11-20T16:47:37.226061Z"
    },
    "papermill": {
     "duration": 1.587823,
     "end_time": "2021-11-20T19:13:58.357901",
     "exception": false,
     "start_time": "2021-11-20T19:13:56.770078",
     "status": "completed"
    },
    "tags": []
   },
   "outputs": [
    {
     "data": {
      "image/png": "[encoded data removed]",
      "text/plain": [
       "<Figure size 792x576 with 2 Axes>"
      ]
     },
     "metadata": {
      "needs_background": "light"
     },
     "output_type": "display_data"
    }
   ],
   "source": [
    "a = hotel_booking_data.corr()\n",
    "plt.figure(figsize=(11, 8))\n",
    "k = 15\n",
    "cols = a.nlargest(k,'is_canceled')['is_canceled'].index\n",
    "cm = np.corrcoef(hotel_booking_data[cols].values.T)\n",
    "sns.set(font_scale=1.0)\n",
    "hm = sns.heatmap(cm, annot=True, square=True, fmt='.2f', annot_kws={'size': 12}, yticklabels=cols.values,xticklabels=cols.values,cmap=\"Blues\")\n",
    "plt.show()"
   ]
  },
  {
   "cell_type": "markdown",
   "id": "5f76f0f3",
   "metadata": {
    "papermill": {
     "duration": 0.069615,
     "end_time": "2021-11-20T19:13:58.497358",
     "exception": false,
     "start_time": "2021-11-20T19:13:58.427743",
     "status": "completed"
    },
    "tags": []
   },
   "source": [
    "#### With these lists, we can conclude that reservation status date plays a huge role whether a guest cancels or not.\n",
    "\n",
    "#### We can see as we get close to the end of the year, cancelations tend to decrease after a sudden rise in July. (which could be an account for the summer travels)\n",
    "\n"
   ]
  },
  {
   "cell_type": "code",
   "execution_count": null,
   "id": "c0e1b42b",
   "metadata": {},
   "outputs": [],
   "source": []
  }
 ],
 "metadata": {
  "kernelspec": {
   "display_name": "Python 3",
   "language": "python",
   "name": "python3"
  },
  "language_info": {
   "codemirror_mode": {
    "name": "ipython",
    "version": 3
   },
   "file_extension": ".py",
   "mimetype": "text/x-python",
   "name": "python",
   "nbconvert_exporter": "python",
   "pygments_lexer": "ipython3",
   "version": "3.8.8"
  },
  "papermill": {
   "default_parameters": {},
   "duration": 26.870926,
   "end_time": "2021-11-20T19:13:59.276670",
   "environment_variables": {},
   "exception": null,
   "input_path": "__notebook__.ipynb",
   "output_path": "__notebook__.ipynb",
   "parameters": {},
   "start_time": "2021-11-20T19:13:32.405744",
   "version": "2.3.3"
  }
 },
 "nbformat": 4,
 "nbformat_minor": 5
}
